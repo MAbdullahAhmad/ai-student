{
 "cells": [
  {
   "cell_type": "markdown",
   "metadata": {},
   "source": [
    "# Linear Regression From Scratch\n",
    "a try to code algorithm without using ai libraries"
   ]
  },
  {
   "cell_type": "code",
   "execution_count": 83,
   "metadata": {},
   "outputs": [],
   "source": [
    "import csv\n",
    "import numpy as np"
   ]
  },
  {
   "cell_type": "markdown",
   "metadata": {},
   "source": [
    "### Gradiant Decent Method\n",
    "\n",
    "![Gradiant Decent](img/gd.png)"
   ]
  },
  {
   "cell_type": "markdown",
   "metadata": {},
   "source": [
    "## 1. Load Dataste"
   ]
  },
  {
   "cell_type": "code",
   "execution_count": 84,
   "metadata": {},
   "outputs": [],
   "source": [
    "def load_csv(filename):\n",
    "  with open(filename, 'r') as file: # open file\n",
    "    reader = csv.reader(file) # create a csv reader for opened file\n",
    "    columns = next(reader) # get columns (header section)\n",
    "    dataset = list(reader) # read rest of data\n",
    "  return columns, np.array(dataset)"
   ]
  },
  {
   "cell_type": "code",
   "execution_count": 85,
   "metadata": {},
   "outputs": [],
   "source": [
    "columns, dataset = load_csv('../datasets/housedata/data.csv')"
   ]
  },
  {
   "cell_type": "code",
   "execution_count": 86,
   "metadata": {},
   "outputs": [
    {
     "data": {
      "text/plain": [
       "['date',\n",
       " 'price',\n",
       " 'bedrooms',\n",
       " 'bathrooms',\n",
       " 'sqft_living',\n",
       " 'sqft_lot',\n",
       " 'floors',\n",
       " 'waterfront',\n",
       " 'view',\n",
       " 'condition',\n",
       " 'sqft_above',\n",
       " 'sqft_basement',\n",
       " 'yr_built',\n",
       " 'yr_renovated',\n",
       " 'street',\n",
       " 'city',\n",
       " 'statezip',\n",
       " 'country']"
      ]
     },
     "execution_count": 86,
     "metadata": {},
     "output_type": "execute_result"
    }
   ],
   "source": [
    "columns"
   ]
  },
  {
   "cell_type": "code",
   "execution_count": 87,
   "metadata": {},
   "outputs": [
    {
     "data": {
      "text/plain": [
       "4600"
      ]
     },
     "execution_count": 87,
     "metadata": {},
     "output_type": "execute_result"
    }
   ],
   "source": [
    "dataset.shape[0] # records"
   ]
  },
  {
   "cell_type": "code",
   "execution_count": 88,
   "metadata": {},
   "outputs": [
    {
     "data": {
      "text/plain": [
       "{'date': '2014-05-02 00:00:00',\n",
       " 'price': '313000.0',\n",
       " 'bedrooms': '3.0',\n",
       " 'bathrooms': '1.5',\n",
       " 'sqft_living': '1340',\n",
       " 'sqft_lot': '7912',\n",
       " 'floors': '1.5',\n",
       " 'waterfront': '0',\n",
       " 'view': '0',\n",
       " 'condition': '3',\n",
       " 'sqft_above': '1340',\n",
       " 'sqft_basement': '0',\n",
       " 'yr_built': '1955',\n",
       " 'yr_renovated': '2005',\n",
       " 'street': '18810 Densmore Ave N',\n",
       " 'city': 'Shoreline',\n",
       " 'statezip': 'WA 98133',\n",
       " 'country': 'USA'}"
      ]
     },
     "execution_count": 88,
     "metadata": {},
     "output_type": "execute_result"
    }
   ],
   "source": [
    "dict(zip(columns, dataset[0])) # first record"
   ]
  },
  {
   "cell_type": "markdown",
   "metadata": {},
   "source": [
    "## 2. Select Numeric Data Only\n",
    "we can also create labels or encodings for non-numerical data"
   ]
  },
  {
   "cell_type": "code",
   "execution_count": 89,
   "metadata": {},
   "outputs": [],
   "source": [
    "# input_columns = ['bedrooms', 'bathrooms', 'sqft_living', 'sqft_lot', 'floors', 'waterfront', 'view', 'condition', 'sqft_above', 'sqft_basement', 'yr_built', 'yr_renovated']\n",
    "# input_columns_indices = []\n",
    "\n",
    "# for i in range(len(columns)):\n",
    "#   if columns[i] in input_columns:\n",
    "#     input_columns_indices.append(i)\n",
    "\n",
    "# dict(zip(input_columns_indices, input_columns))"
   ]
  },
  {
   "cell_type": "code",
   "execution_count": 90,
   "metadata": {},
   "outputs": [],
   "source": [
    "# output_column = 'price'\n",
    "# output_column_index = -1\n",
    "\n",
    "# for i in range(len(columns)):\n",
    "#   if columns[i] == output_column:\n",
    "#     output_column_index = i\n",
    "#     break\n",
    "\n",
    "# print(output_column_index, output_column)"
   ]
  },
  {
   "cell_type": "code",
   "execution_count": 91,
   "metadata": {},
   "outputs": [],
   "source": [
    "# inputs = []\n",
    "# outputs = []\n",
    "\n",
    "# for i in range(dataset.shape[0]):\n",
    "#   inputs.append(dataset[i][[input_columns_indices]])\n",
    "#   outputs.append(dataset[i][output_column_index])"
   ]
  },
  {
   "cell_type": "markdown",
   "metadata": {},
   "source": [
    "## 2. Or - Let us do `Label-Encoding`\n",
    "Convert non-numerical data to numerical data"
   ]
  },
  {
   "cell_type": "code",
   "execution_count": 92,
   "metadata": {},
   "outputs": [],
   "source": [
    "def label_encode(dataset, columns, non_numerical_columns):\n",
    "  encoded_data = dataset.copy() # make a copy of dataset to not change original data\n",
    "  label_encodings = {} # encodings map\n",
    "\n",
    "  for col in non_numerical_columns:\n",
    "    col_index = columns.index(col)\n",
    "    uniqe_values = np.unique(dataset[:, col_index]) # get a list of unique values\n",
    "    encoding = {value.lower().strip():idx for idx,value in enumerate(uniqe_values)}\n",
    "    label_encodings[col] = encoding\n",
    "\n",
    "    for row in encoded_data:\n",
    "      row[col_index] = encoding[row[col_index].lower().strip()] # replace string with value from encoding map\n",
    "\n",
    "  return encoded_data, label_encodings"
   ]
  },
  {
   "cell_type": "code",
   "execution_count": 93,
   "metadata": {},
   "outputs": [],
   "source": [
    "encoded_data, encodings = label_encode(dataset, columns, ['street', 'city', 'statezip', 'country'])"
   ]
  },
  {
   "cell_type": "code",
   "execution_count": 94,
   "metadata": {},
   "outputs": [
    {
     "data": {
      "text/plain": [
       "['date',\n",
       " 'price',\n",
       " 'bedrooms',\n",
       " 'bathrooms',\n",
       " 'sqft_living',\n",
       " 'sqft_lot',\n",
       " 'floors',\n",
       " 'waterfront',\n",
       " 'view',\n",
       " 'condition',\n",
       " 'sqft_above',\n",
       " 'sqft_basement',\n",
       " 'yr_built',\n",
       " 'yr_renovated',\n",
       " 'street',\n",
       " 'city',\n",
       " 'statezip',\n",
       " 'country']"
      ]
     },
     "execution_count": 94,
     "metadata": {},
     "output_type": "execute_result"
    }
   ],
   "source": [
    "columns"
   ]
  },
  {
   "cell_type": "code",
   "execution_count": 95,
   "metadata": {},
   "outputs": [
    {
     "data": {
      "text/plain": [
       "{'date': '2014-05-02 00:00:00',\n",
       " 'price': '313000.0',\n",
       " 'bedrooms': '3.0',\n",
       " 'bathrooms': '1.5',\n",
       " 'sqft_living': '1340',\n",
       " 'sqft_lot': '7912',\n",
       " 'floors': '1.5',\n",
       " 'waterfront': '0',\n",
       " 'view': '0',\n",
       " 'condition': '3',\n",
       " 'sqft_above': '1340',\n",
       " 'sqft_basement': '0',\n",
       " 'yr_built': '1955',\n",
       " 'yr_renovated': '2005',\n",
       " 'street': '1522',\n",
       " 'city': '36',\n",
       " 'statezip': '62',\n",
       " 'country': '0'}"
      ]
     },
     "execution_count": 95,
     "metadata": {},
     "output_type": "execute_result"
    }
   ],
   "source": [
    "dict(zip(columns, encoded_data[0])) # encoded"
   ]
  },
  {
   "cell_type": "code",
   "execution_count": 96,
   "metadata": {},
   "outputs": [
    {
     "data": {
      "text/plain": [
       "{'date': '2014-05-02 00:00:00',\n",
       " 'price': '313000.0',\n",
       " 'bedrooms': '3.0',\n",
       " 'bathrooms': '1.5',\n",
       " 'sqft_living': '1340',\n",
       " 'sqft_lot': '7912',\n",
       " 'floors': '1.5',\n",
       " 'waterfront': '0',\n",
       " 'view': '0',\n",
       " 'condition': '3',\n",
       " 'sqft_above': '1340',\n",
       " 'sqft_basement': '0',\n",
       " 'yr_built': '1955',\n",
       " 'yr_renovated': '2005',\n",
       " 'street': '18810 Densmore Ave N',\n",
       " 'city': 'Shoreline',\n",
       " 'statezip': 'WA 98133',\n",
       " 'country': 'USA'}"
      ]
     },
     "execution_count": 96,
     "metadata": {},
     "output_type": "execute_result"
    }
   ],
   "source": [
    "dict(zip(columns, dataset[0])) # original"
   ]
  },
  {
   "cell_type": "markdown",
   "metadata": {},
   "source": [
    "### Handling date\n",
    "\n",
    "Handling date is quite a complicated task. here are different appraoches we can use:\n",
    "1. simply convert to timestamp (not much useful)\n",
    "2. features-enginerring:\n",
    "  - create features (like difference between date of record and last renovated, etc.)\n",
    "  - split / create features (i.e., extract day, month, year, saperately)"
   ]
  },
  {
   "cell_type": "code",
   "execution_count": 97,
   "metadata": {},
   "outputs": [
    {
     "data": {
      "text/plain": [
       "array(['2014-05-02 00:00:00', '2014-05-02 00:00:00'], dtype='<U46')"
      ]
     },
     "execution_count": 97,
     "metadata": {},
     "output_type": "execute_result"
    }
   ],
   "source": [
    "encoded_data[:2, 0] # check out 2 date samples"
   ]
  },
  {
   "cell_type": "code",
   "execution_count": 98,
   "metadata": {},
   "outputs": [],
   "source": [
    "from datetime import datetime"
   ]
  },
  {
   "cell_type": "code",
   "execution_count": 99,
   "metadata": {},
   "outputs": [
    {
     "data": {
      "text/plain": [
       "1398970800.0"
      ]
     },
     "execution_count": 99,
     "metadata": {},
     "output_type": "execute_result"
    }
   ],
   "source": [
    "datetime.timestamp(\n",
    "  datetime.strptime(encoded_data[0][0], '%Y-%m-%d %H:%M:%S')\n",
    ") # timestamp"
   ]
  },
  {
   "cell_type": "code",
   "execution_count": 100,
   "metadata": {},
   "outputs": [],
   "source": [
    "# Encode all dates to timestamp\n",
    "for row_idx in range(encoded_data.shape[0]):\n",
    "  encoded_data[row_idx][0] = datetime.timestamp(\n",
    "    datetime.strptime(encoded_data[row_idx][0], '%Y-%m-%d %H:%M:%S')\n",
    "  )\n",
    "  "
   ]
  },
  {
   "cell_type": "code",
   "execution_count": 101,
   "metadata": {},
   "outputs": [
    {
     "data": {
      "text/plain": [
       "array(['1398970800.0', '313000.0'], dtype='<U46')"
      ]
     },
     "execution_count": 101,
     "metadata": {},
     "output_type": "execute_result"
    }
   ],
   "source": [
    "encoded_data[0, :2] # check out 2 date samples"
   ]
  },
  {
   "cell_type": "markdown",
   "metadata": {},
   "source": [
    "## 3. Normalization"
   ]
  },
  {
   "cell_type": "code",
   "execution_count": 102,
   "metadata": {},
   "outputs": [],
   "source": [
    "encoded_data = np.array(encoded_data, 'float32') # convert all to float (32-bit)"
   ]
  },
  {
   "cell_type": "markdown",
   "metadata": {},
   "source": [
    "####  Scaling `0.0` to `1.0`"
   ]
  },
  {
   "cell_type": "code",
   "execution_count": 103,
   "metadata": {},
   "outputs": [
    {
     "data": {
      "text/plain": [
       "array([[1.3989708e+09, 3.1300000e+05, 3.0000000e+00, 1.5000000e+00,\n",
       "        1.3400000e+03, 7.9120000e+03, 1.5000000e+00, 0.0000000e+00,\n",
       "        0.0000000e+00, 3.0000000e+00, 1.3400000e+03, 0.0000000e+00,\n",
       "        1.9550000e+03, 2.0050000e+03, 1.5220000e+03, 3.6000000e+01,\n",
       "        6.2000000e+01, 0.0000000e+00],\n",
       "       [1.3989708e+09, 2.3840000e+06, 5.0000000e+00, 2.5000000e+00,\n",
       "        3.6500000e+03, 9.0500000e+03, 2.0000000e+00, 0.0000000e+00,\n",
       "        4.0000000e+00, 5.0000000e+00, 3.3700000e+03, 2.8000000e+02,\n",
       "        1.9210000e+03, 0.0000000e+00, 3.8990000e+03, 3.5000000e+01,\n",
       "        5.8000000e+01, 0.0000000e+00]], dtype=float32)"
      ]
     },
     "execution_count": 103,
     "metadata": {},
     "output_type": "execute_result"
    }
   ],
   "source": [
    "encoded_data[:2] # 2 samples"
   ]
  },
  {
   "cell_type": "code",
   "execution_count": 104,
   "metadata": {},
   "outputs": [],
   "source": [
    "# functinon to do min max scaling\n",
    "def min_max_normalize(data):\n",
    "    min_val = np.min(data, axis=0)\n",
    "    max_val = np.max(data, axis=0)\n",
    "    return (data - min_val) / (max_val - min_val)"
   ]
  },
  {
   "cell_type": "code",
   "execution_count": 105,
   "metadata": {},
   "outputs": [
    {
     "name": "stderr",
     "output_type": "stream",
     "text": [
      "/tmp/ipykernel_3693/2929896987.py:5: RuntimeWarning: invalid value encountered in divide\n",
      "  return (data - min_val) / (max_val - min_val)\n"
     ]
    }
   ],
   "source": [
    "normalized_data = min_max_normalize(encoded_data)"
   ]
  },
  {
   "cell_type": "code",
   "execution_count": 106,
   "metadata": {},
   "outputs": [
    {
     "data": {
      "text/plain": [
       "array([[0.        , 0.01177134, 0.33333334, 0.1875    , 0.07365224,\n",
       "        0.00677546, 0.2       , 0.        , 0.        , 0.5       ,\n",
       "        0.10730089, 0.        , 0.48245615, 0.99553126, 0.33642793,\n",
       "        0.8372093 , 0.81578946,        nan],\n",
       "       [0.        , 0.08965777, 0.5555556 , 0.3125    , 0.24905087,\n",
       "        0.00783547, 0.4       , 0.        , 1.        , 1.        ,\n",
       "        0.3318584 , 0.05809129, 0.18421052, 0.        , 0.86184794,\n",
       "        0.81395346, 0.7631579 ,        nan]], dtype=float32)"
      ]
     },
     "execution_count": 106,
     "metadata": {},
     "output_type": "execute_result"
    }
   ],
   "source": [
    "normalized_data[:2] # check 2 samples"
   ]
  },
  {
   "cell_type": "code",
   "execution_count": 107,
   "metadata": {},
   "outputs": [
    {
     "data": {
      "text/plain": [
       "['date',\n",
       " 'price',\n",
       " 'bedrooms',\n",
       " 'bathrooms',\n",
       " 'sqft_living',\n",
       " 'sqft_lot',\n",
       " 'floors',\n",
       " 'waterfront',\n",
       " 'view',\n",
       " 'condition',\n",
       " 'sqft_above',\n",
       " 'sqft_basement',\n",
       " 'yr_built',\n",
       " 'yr_renovated',\n",
       " 'street',\n",
       " 'city',\n",
       " 'statezip',\n",
       " 'country']"
      ]
     },
     "execution_count": 107,
     "metadata": {},
     "output_type": "execute_result"
    }
   ],
   "source": [
    "columns"
   ]
  },
  {
   "cell_type": "code",
   "execution_count": 120,
   "metadata": {},
   "outputs": [
    {
     "name": "stdout",
     "output_type": "stream",
     "text": [
      "[0, 2, 3, 4, 5, 6, 7, 8, 9, 10, 11, 12, 13, 14, 15, 16, 17] 1\n"
     ]
    }
   ],
   "source": [
    "output_column = 1 # price\n",
    "input_columns = list(range(len(columns)))\n",
    "input_columns.remove(output_column)\n",
    "\n",
    "print(input_columns, output_column)"
   ]
  },
  {
   "cell_type": "code",
   "execution_count": 130,
   "metadata": {},
   "outputs": [],
   "source": [
    "input_columns = input_columns[:-1] # remove country"
   ]
  },
  {
   "cell_type": "code",
   "execution_count": 131,
   "metadata": {},
   "outputs": [],
   "source": [
    "X = normalized_data[:, input_columns] # input\n",
    "Y = normalized_data[:, output_column] # output"
   ]
  },
  {
   "cell_type": "code",
   "execution_count": 132,
   "metadata": {},
   "outputs": [
    {
     "data": {
      "text/plain": [
       "array([[0.        , 0.33333334, 0.1875    , 0.07365224, 0.00677546,\n",
       "        0.2       , 0.        , 0.        , 0.5       , 0.10730089,\n",
       "        0.        , 0.48245615, 0.99553126, 0.33642793, 0.8372093 ],\n",
       "       [0.        , 0.5555556 , 0.3125    , 0.24905087, 0.00783547,\n",
       "        0.4       , 0.        , 1.        , 1.        , 0.3318584 ,\n",
       "        0.05809129, 0.18421052, 0.        , 0.86184794, 0.81395346],\n",
       "       [0.        , 0.33333334, 0.25      , 0.11845102, 0.01053391,\n",
       "        0.        , 0.        , 0.        , 0.75      , 0.17256637,\n",
       "        0.        , 0.57894737, 0.        , 0.50641024, 0.41860464]],\n",
       "      dtype=float32)"
      ]
     },
     "execution_count": 132,
     "metadata": {},
     "output_type": "execute_result"
    }
   ],
   "source": [
    "X[:3]"
   ]
  },
  {
   "cell_type": "code",
   "execution_count": 150,
   "metadata": {},
   "outputs": [
    {
     "data": {
      "text/plain": [
       "(4600,)"
      ]
     },
     "execution_count": 150,
     "metadata": {},
     "output_type": "execute_result"
    }
   ],
   "source": [
    "Y.shape"
   ]
  },
  {
   "cell_type": "code",
   "execution_count": 151,
   "metadata": {},
   "outputs": [
    {
     "data": {
      "text/plain": [
       "(4600, 15)"
      ]
     },
     "execution_count": 151,
     "metadata": {},
     "output_type": "execute_result"
    }
   ],
   "source": [
    "X.shape"
   ]
  },
  {
   "cell_type": "code",
   "execution_count": 175,
   "metadata": {},
   "outputs": [],
   "source": [
    "# CPerform GD\n",
    "def gradient_descent(X, Y, weights, learning_rate, iterations):\n",
    "    number_of_samples = len(Y)\n",
    "\n",
    "    for iteration_idx in range(iterations): # no of iterations to train\n",
    "        avg_err = 0\n",
    "        for sample_idx in range(number_of_samples): # take each sample\n",
    "            predicted = np.dot(X[sample_idx], weights) # predict\n",
    "            error = predicted - Y[sample_idx] # find error\n",
    "            for column_idx in range(len(weights)):\n",
    "                weights[column_idx] -= learning_rate * error * X[sample_idx][column_idx] # learn value\n",
    "            avg_err += abs(error)\n",
    "        avg_err /= number_of_samples\n",
    "        # print(f\"i={iteration_idx}, e={error}, w={weights}\")\n",
    "        print(f\"{iteration_idx} = {error}\")\n",
    "    return weights"
   ]
  },
  {
   "cell_type": "code",
   "execution_count": 176,
   "metadata": {},
   "outputs": [],
   "source": [
    "## trying to code myself\n",
    "\n",
    "# def gradient_decent(X, Y, learning_rate, initial_weights, iterations):\n",
    "#   for _ in range(len(iterations)):\n",
    "#     for i in range(X.shape[0]): # for all inputs\n",
    "#         predicted = np.dot(X[i], initial_weights)\n",
    "#         error = predicted - Y[i]\n",
    "\n",
    "#         for column_ind in range(len(initial_weights)):\n",
    "#            initial_weights[column_ind] -= error * learning_rate * X[i][column_ind]\n",
    "\n",
    "#   return initial_weights"
   ]
  },
  {
   "cell_type": "code",
   "execution_count": 177,
   "metadata": {},
   "outputs": [],
   "source": [
    "# Train LR model, return weights\n",
    "def train_linear_regression(X, Y, learning_rate, iterations):\n",
    "    initial_weights = np.full(X.shape[1], 1.00, 'float32') # initially set all weights = 1\n",
    "    \n",
    "    trained_weights = gradient_descent(\n",
    "      X,\n",
    "      Y,\n",
    "      initial_weights,\n",
    "      learning_rate,\n",
    "      iterations\n",
    "    )\n",
    "\n",
    "    return trained_weights\n"
   ]
  },
  {
   "cell_type": "code",
   "execution_count": 181,
   "metadata": {},
   "outputs": [],
   "source": [
    "learning_rate = 0.001\n",
    "iterations = 100"
   ]
  },
  {
   "cell_type": "code",
   "execution_count": 182,
   "metadata": {},
   "outputs": [],
   "source": [
    "for i in range(len(X)):\n",
    "  np.isnan(X[i][-1])\n",
    "  "
   ]
  },
  {
   "cell_type": "code",
   "execution_count": 183,
   "metadata": {},
   "outputs": [
    {
     "name": "stdout",
     "output_type": "stream",
     "text": [
      "0 = 0.11020359396934509\n",
      "1 = 0.05988784506917\n",
      "2 = 0.02873467281460762\n",
      "3 = 0.008485952392220497\n",
      "4 = -0.00495092011988163\n",
      "5 = -0.013907299377024174\n",
      "6 = -0.019828569144010544\n",
      "7 = -0.023658258840441704\n",
      "8 = -0.026029285043478012\n",
      "9 = -0.027375146746635437\n",
      "10 = -0.027997145429253578\n",
      "11 = -0.02810586243867874\n",
      "12 = -0.027849756181240082\n",
      "13 = -0.0273358765989542\n",
      "14 = -0.026640689000487328\n",
      "15 = -0.025820275768637657\n",
      "16 = -0.02491563744843006\n",
      "17 = -0.02395734004676342\n",
      "18 = -0.022968139499425888\n",
      "19 = -0.02196531742811203\n",
      "20 = -0.020961584523320198\n",
      "21 = -0.019966797903180122\n",
      "22 = -0.01898852363228798\n",
      "23 = -0.018032200634479523\n",
      "24 = -0.017102012410759926\n",
      "25 = -0.016200818121433258\n",
      "26 = -0.015330865979194641\n",
      "27 = -0.014493613503873348\n",
      "28 = -0.01368978712707758\n",
      "29 = -0.012919697910547256\n",
      "30 = -0.012183439917862415\n",
      "31 = -0.011480731889605522\n",
      "32 = -0.010810963809490204\n",
      "33 = -0.010173482820391655\n",
      "34 = -0.00956725049763918\n",
      "35 = -0.00899150688201189\n",
      "36 = -0.008445076644420624\n",
      "37 = -0.007926862686872482\n",
      "38 = -0.0074356901459395885\n",
      "39 = -0.00697044562548399\n",
      "40 = -0.0065298620611429214\n",
      "41 = -0.006112760864198208\n",
      "42 = -0.00571819394826889\n",
      "43 = -0.0053447457030415535\n",
      "44 = -0.004991505295038223\n",
      "45 = -0.0046572755090892315\n",
      "46 = -0.004341077990829945\n",
      "47 = -0.00404183566570282\n",
      "48 = -0.003758620470762253\n",
      "49 = -0.003490476869046688\n",
      "50 = -0.003236544318497181\n",
      "51 = -0.002995990216732025\n",
      "52 = -0.0027679922059178352\n",
      "53 = -0.0025517959147691727\n",
      "54 = -0.0023467428982257843\n",
      "55 = -0.002151977736502886\n",
      "56 = -0.001966999378055334\n",
      "57 = -0.0017912457697093487\n",
      "58 = -0.0016239779070019722\n",
      "59 = -0.001464760396629572\n",
      "60 = -0.0013130302540957928\n",
      "61 = -0.0011683800257742405\n",
      "62 = -0.0010303477756679058\n",
      "63 = -0.0008984985761344433\n",
      "64 = -0.0007724217139184475\n",
      "65 = -0.0006517479196190834\n",
      "66 = -0.0005361204966902733\n",
      "67 = -0.0004252847284078598\n",
      "68 = -0.00031881779432296753\n",
      "69 = -0.0002165650948882103\n",
      "70 = -0.00011815223842859268\n",
      "71 = -2.339296042919159e-05\n",
      "72 = 6.793346256017685e-05\n",
      "73 = 0.00015601888298988342\n",
      "74 = 0.00024108216166496277\n",
      "75 = 0.00032341107726097107\n",
      "76 = 0.00040310248732566833\n",
      "77 = 0.0004802849143743515\n",
      "78 = 0.0005551362410187721\n",
      "79 = 0.0006277831271290779\n",
      "80 = 0.0006984490901231766\n",
      "81 = 0.000767068937420845\n",
      "82 = 0.000833926722407341\n",
      "83 = 0.0008990587666630745\n",
      "84 = 0.0009625526145100594\n",
      "85 = 0.0010245619341731071\n",
      "86 = 0.0010850951075553894\n",
      "87 = 0.0011442666873335838\n",
      "88 = 0.0012021306902170181\n",
      "89 = 0.0012588053941726685\n",
      "90 = 0.001314336434006691\n",
      "91 = 0.0013687238097190857\n",
      "92 = 0.001422123983502388\n",
      "93 = 0.001474485732614994\n",
      "94 = 0.0015259170904755592\n",
      "95 = 0.0015764366835355759\n",
      "96 = 0.0016261162236332893\n",
      "97 = 0.0016749771311879158\n",
      "98 = 0.0017230426892638206\n",
      "99 = 0.0017703557386994362\n"
     ]
    }
   ],
   "source": [
    "trained_weights = train_linear_regression(X, Y, learning_rate, iterations)"
   ]
  },
  {
   "cell_type": "code",
   "execution_count": 184,
   "metadata": {},
   "outputs": [
    {
     "data": {
      "text/plain": [
       "array([ 4.0292591e-03, -2.8634807e-02, -5.1967934e-02,  2.5493432e-02,\n",
       "        5.5539250e-01,  2.5177561e-02,  6.6455990e-02, -1.3566415e-02,\n",
       "        1.0148150e-02,  6.2921979e-02,  9.4818592e-02, -1.1575583e-03,\n",
       "        1.3377463e-03,  4.8107261e-04,  5.0800806e-03], dtype=float32)"
      ]
     },
     "execution_count": 184,
     "metadata": {},
     "output_type": "execute_result"
    }
   ],
   "source": [
    "trained_weights"
   ]
  },
  {
   "cell_type": "markdown",
   "metadata": {},
   "source": [
    "# Pending Study\n",
    "- Different accuracy methods"
   ]
  },
  {
   "cell_type": "code",
   "execution_count": 188,
   "metadata": {},
   "outputs": [],
   "source": [
    "def r_square_accuracy(X, Y, weights):\n",
    "  total_error = 0.0\n",
    "  total_variance = 0.0\n",
    "  mean_y = np.mean(Y)\n",
    "\n",
    "  for i in range(len(Y)):\n",
    "      predicted = np.dot(X[i], weights)\n",
    "      total_error += (predicted - Y[i]) ** 2\n",
    "      total_variance += (Y[i] - mean_y) ** 2\n",
    "  return 1 - (total_error / total_variance)"
   ]
  },
  {
   "cell_type": "code",
   "execution_count": 189,
   "metadata": {},
   "outputs": [
    {
     "data": {
      "text/plain": [
       "-0.6895254599149807"
      ]
     },
     "execution_count": 189,
     "metadata": {},
     "output_type": "execute_result"
    }
   ],
   "source": [
    "r_square_accuracy(X, Y, trained_weights)"
   ]
  }
 ],
 "metadata": {
  "kernelspec": {
   "display_name": "Python 3",
   "language": "python",
   "name": "python3"
  },
  "language_info": {
   "codemirror_mode": {
    "name": "ipython",
    "version": 3
   },
   "file_extension": ".py",
   "mimetype": "text/x-python",
   "name": "python",
   "nbconvert_exporter": "python",
   "pygments_lexer": "ipython3",
   "version": "3.12.3"
  }
 },
 "nbformat": 4,
 "nbformat_minor": 2
}
