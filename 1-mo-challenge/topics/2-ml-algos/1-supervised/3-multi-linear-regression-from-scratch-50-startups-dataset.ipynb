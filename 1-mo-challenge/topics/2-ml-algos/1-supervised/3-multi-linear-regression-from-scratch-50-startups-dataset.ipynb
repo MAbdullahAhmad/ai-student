{
 "cells": [
  {
   "cell_type": "markdown",
   "metadata": {},
   "source": [
    "let us import library on demand"
   ]
  },
  {
   "cell_type": "markdown",
   "metadata": {},
   "source": [
    "## Dataset"
   ]
  },
  {
   "cell_type": "code",
   "execution_count": 209,
   "metadata": {},
   "outputs": [],
   "source": [
    "import os"
   ]
  },
  {
   "cell_type": "code",
   "execution_count": 210,
   "metadata": {},
   "outputs": [
    {
     "data": {
      "text/plain": [
       "'/home/anderson/Documents/ai-student/topics/2-ml-algos/1-supervised/../datasets/50-startups/50_Startups.csv'"
      ]
     },
     "execution_count": 210,
     "metadata": {},
     "output_type": "execute_result"
    }
   ],
   "source": [
    "dataset_path = os.path.join(\n",
    "  os.getcwd(),\n",
    "  '../datasets/',\n",
    "  '50-startups',\n",
    "  '50_Startups.csv'\n",
    ")\n",
    "dataset_path"
   ]
  },
  {
   "cell_type": "code",
   "execution_count": 211,
   "metadata": {},
   "outputs": [],
   "source": [
    "import pandas as pd"
   ]
  },
  {
   "cell_type": "code",
   "execution_count": 212,
   "metadata": {},
   "outputs": [
    {
     "data": {
      "text/html": [
       "<div>\n",
       "<style scoped>\n",
       "    .dataframe tbody tr th:only-of-type {\n",
       "        vertical-align: middle;\n",
       "    }\n",
       "\n",
       "    .dataframe tbody tr th {\n",
       "        vertical-align: top;\n",
       "    }\n",
       "\n",
       "    .dataframe thead th {\n",
       "        text-align: right;\n",
       "    }\n",
       "</style>\n",
       "<table border=\"1\" class=\"dataframe\">\n",
       "  <thead>\n",
       "    <tr style=\"text-align: right;\">\n",
       "      <th></th>\n",
       "      <th>R&amp;D Spend</th>\n",
       "      <th>Administration</th>\n",
       "      <th>Marketing Spend</th>\n",
       "      <th>State</th>\n",
       "      <th>Profit</th>\n",
       "    </tr>\n",
       "  </thead>\n",
       "  <tbody>\n",
       "    <tr>\n",
       "      <th>0</th>\n",
       "      <td>165349.20</td>\n",
       "      <td>136897.80</td>\n",
       "      <td>471784.10</td>\n",
       "      <td>New York</td>\n",
       "      <td>192261.83</td>\n",
       "    </tr>\n",
       "    <tr>\n",
       "      <th>1</th>\n",
       "      <td>162597.70</td>\n",
       "      <td>151377.59</td>\n",
       "      <td>443898.53</td>\n",
       "      <td>California</td>\n",
       "      <td>191792.06</td>\n",
       "    </tr>\n",
       "    <tr>\n",
       "      <th>2</th>\n",
       "      <td>153441.51</td>\n",
       "      <td>101145.55</td>\n",
       "      <td>407934.54</td>\n",
       "      <td>Florida</td>\n",
       "      <td>191050.39</td>\n",
       "    </tr>\n",
       "    <tr>\n",
       "      <th>3</th>\n",
       "      <td>144372.41</td>\n",
       "      <td>118671.85</td>\n",
       "      <td>383199.62</td>\n",
       "      <td>New York</td>\n",
       "      <td>182901.99</td>\n",
       "    </tr>\n",
       "    <tr>\n",
       "      <th>4</th>\n",
       "      <td>142107.34</td>\n",
       "      <td>91391.77</td>\n",
       "      <td>366168.42</td>\n",
       "      <td>Florida</td>\n",
       "      <td>166187.94</td>\n",
       "    </tr>\n",
       "  </tbody>\n",
       "</table>\n",
       "</div>"
      ],
      "text/plain": [
       "   R&D Spend  Administration  Marketing Spend       State     Profit\n",
       "0  165349.20       136897.80        471784.10    New York  192261.83\n",
       "1  162597.70       151377.59        443898.53  California  191792.06\n",
       "2  153441.51       101145.55        407934.54     Florida  191050.39\n",
       "3  144372.41       118671.85        383199.62    New York  182901.99\n",
       "4  142107.34        91391.77        366168.42     Florida  166187.94"
      ]
     },
     "execution_count": 212,
     "metadata": {},
     "output_type": "execute_result"
    }
   ],
   "source": [
    "dataset = pd.read_csv(dataset_path)\n",
    "dataset.head()"
   ]
  },
  {
   "cell_type": "code",
   "execution_count": 213,
   "metadata": {},
   "outputs": [
    {
     "data": {
      "text/html": [
       "<div>\n",
       "<style scoped>\n",
       "    .dataframe tbody tr th:only-of-type {\n",
       "        vertical-align: middle;\n",
       "    }\n",
       "\n",
       "    .dataframe tbody tr th {\n",
       "        vertical-align: top;\n",
       "    }\n",
       "\n",
       "    .dataframe thead th {\n",
       "        text-align: right;\n",
       "    }\n",
       "</style>\n",
       "<table border=\"1\" class=\"dataframe\">\n",
       "  <thead>\n",
       "    <tr style=\"text-align: right;\">\n",
       "      <th></th>\n",
       "      <th>R&amp;D Spend</th>\n",
       "      <th>Administration</th>\n",
       "      <th>Marketing Spend</th>\n",
       "      <th>Profit</th>\n",
       "    </tr>\n",
       "  </thead>\n",
       "  <tbody>\n",
       "    <tr>\n",
       "      <th>count</th>\n",
       "      <td>50.00</td>\n",
       "      <td>50.00</td>\n",
       "      <td>50.00</td>\n",
       "      <td>50.00</td>\n",
       "    </tr>\n",
       "    <tr>\n",
       "      <th>mean</th>\n",
       "      <td>73721.62</td>\n",
       "      <td>121344.64</td>\n",
       "      <td>211025.10</td>\n",
       "      <td>112012.64</td>\n",
       "    </tr>\n",
       "    <tr>\n",
       "      <th>std</th>\n",
       "      <td>45902.26</td>\n",
       "      <td>28017.80</td>\n",
       "      <td>122290.31</td>\n",
       "      <td>40306.18</td>\n",
       "    </tr>\n",
       "    <tr>\n",
       "      <th>min</th>\n",
       "      <td>0.00</td>\n",
       "      <td>51283.14</td>\n",
       "      <td>0.00</td>\n",
       "      <td>14681.40</td>\n",
       "    </tr>\n",
       "    <tr>\n",
       "      <th>25%</th>\n",
       "      <td>39936.37</td>\n",
       "      <td>103730.88</td>\n",
       "      <td>129300.13</td>\n",
       "      <td>90138.90</td>\n",
       "    </tr>\n",
       "    <tr>\n",
       "      <th>50%</th>\n",
       "      <td>73051.08</td>\n",
       "      <td>122699.80</td>\n",
       "      <td>212716.24</td>\n",
       "      <td>107978.19</td>\n",
       "    </tr>\n",
       "    <tr>\n",
       "      <th>75%</th>\n",
       "      <td>101602.80</td>\n",
       "      <td>144842.18</td>\n",
       "      <td>299469.08</td>\n",
       "      <td>139765.98</td>\n",
       "    </tr>\n",
       "    <tr>\n",
       "      <th>max</th>\n",
       "      <td>165349.20</td>\n",
       "      <td>182645.56</td>\n",
       "      <td>471784.10</td>\n",
       "      <td>192261.83</td>\n",
       "    </tr>\n",
       "  </tbody>\n",
       "</table>\n",
       "</div>"
      ],
      "text/plain": [
       "       R&D Spend  Administration  Marketing Spend     Profit\n",
       "count      50.00           50.00            50.00      50.00\n",
       "mean    73721.62       121344.64        211025.10  112012.64\n",
       "std     45902.26        28017.80        122290.31   40306.18\n",
       "min         0.00        51283.14             0.00   14681.40\n",
       "25%     39936.37       103730.88        129300.13   90138.90\n",
       "50%     73051.08       122699.80        212716.24  107978.19\n",
       "75%    101602.80       144842.18        299469.08  139765.98\n",
       "max    165349.20       182645.56        471784.10  192261.83"
      ]
     },
     "execution_count": 213,
     "metadata": {},
     "output_type": "execute_result"
    }
   ],
   "source": [
    "round(dataset.describe(), 2)"
   ]
  },
  {
   "cell_type": "markdown",
   "metadata": {},
   "source": [
    "## Normalization"
   ]
  },
  {
   "cell_type": "code",
   "execution_count": 214,
   "metadata": {},
   "outputs": [
    {
     "data": {
      "text/plain": [
       "R&D Spend          0\n",
       "Administration     0\n",
       "Marketing Spend    0\n",
       "State              0\n",
       "Profit             0\n",
       "dtype: int64"
      ]
     },
     "execution_count": 214,
     "metadata": {},
     "output_type": "execute_result"
    }
   ],
   "source": [
    "dataset.isna().sum()"
   ]
  },
  {
   "cell_type": "markdown",
   "metadata": {},
   "source": [
    "normalization not required"
   ]
  },
  {
   "cell_type": "markdown",
   "metadata": {},
   "source": [
    "## Encode"
   ]
  },
  {
   "cell_type": "code",
   "execution_count": 215,
   "metadata": {},
   "outputs": [],
   "source": [
    "def encode(dataset, columns):\n",
    "  copy = dataset.copy()\n",
    "\n",
    "  for column in columns:\n",
    "    uniques = list(copy[column].unique())\n",
    "    for i in range(copy.shape[0]):\n",
    "      copy.loc[i, column] = uniques.index(copy[column][i])\n",
    "\n",
    "  return copy, uniques"
   ]
  },
  {
   "cell_type": "code",
   "execution_count": 216,
   "metadata": {},
   "outputs": [
    {
     "data": {
      "text/html": [
       "<div>\n",
       "<style scoped>\n",
       "    .dataframe tbody tr th:only-of-type {\n",
       "        vertical-align: middle;\n",
       "    }\n",
       "\n",
       "    .dataframe tbody tr th {\n",
       "        vertical-align: top;\n",
       "    }\n",
       "\n",
       "    .dataframe thead th {\n",
       "        text-align: right;\n",
       "    }\n",
       "</style>\n",
       "<table border=\"1\" class=\"dataframe\">\n",
       "  <thead>\n",
       "    <tr style=\"text-align: right;\">\n",
       "      <th></th>\n",
       "      <th>R&amp;D Spend</th>\n",
       "      <th>Administration</th>\n",
       "      <th>Marketing Spend</th>\n",
       "      <th>State</th>\n",
       "      <th>Profit</th>\n",
       "    </tr>\n",
       "  </thead>\n",
       "  <tbody>\n",
       "    <tr>\n",
       "      <th>0</th>\n",
       "      <td>165349.20</td>\n",
       "      <td>136897.80</td>\n",
       "      <td>471784.10</td>\n",
       "      <td>0</td>\n",
       "      <td>192261.83</td>\n",
       "    </tr>\n",
       "    <tr>\n",
       "      <th>1</th>\n",
       "      <td>162597.70</td>\n",
       "      <td>151377.59</td>\n",
       "      <td>443898.53</td>\n",
       "      <td>1</td>\n",
       "      <td>191792.06</td>\n",
       "    </tr>\n",
       "    <tr>\n",
       "      <th>2</th>\n",
       "      <td>153441.51</td>\n",
       "      <td>101145.55</td>\n",
       "      <td>407934.54</td>\n",
       "      <td>2</td>\n",
       "      <td>191050.39</td>\n",
       "    </tr>\n",
       "    <tr>\n",
       "      <th>3</th>\n",
       "      <td>144372.41</td>\n",
       "      <td>118671.85</td>\n",
       "      <td>383199.62</td>\n",
       "      <td>0</td>\n",
       "      <td>182901.99</td>\n",
       "    </tr>\n",
       "    <tr>\n",
       "      <th>4</th>\n",
       "      <td>142107.34</td>\n",
       "      <td>91391.77</td>\n",
       "      <td>366168.42</td>\n",
       "      <td>2</td>\n",
       "      <td>166187.94</td>\n",
       "    </tr>\n",
       "  </tbody>\n",
       "</table>\n",
       "</div>"
      ],
      "text/plain": [
       "   R&D Spend  Administration  Marketing Spend State     Profit\n",
       "0  165349.20       136897.80        471784.10     0  192261.83\n",
       "1  162597.70       151377.59        443898.53     1  191792.06\n",
       "2  153441.51       101145.55        407934.54     2  191050.39\n",
       "3  144372.41       118671.85        383199.62     0  182901.99\n",
       "4  142107.34        91391.77        366168.42     2  166187.94"
      ]
     },
     "execution_count": 216,
     "metadata": {},
     "output_type": "execute_result"
    }
   ],
   "source": [
    "encoded = encode(dataset, ['State'])[0]\n",
    "encoded.head()"
   ]
  },
  {
   "cell_type": "markdown",
   "metadata": {},
   "source": [
    "# Scaling"
   ]
  },
  {
   "cell_type": "code",
   "execution_count": 217,
   "metadata": {},
   "outputs": [],
   "source": [
    "def scale_all_columns(dataset):\n",
    "  scale_map = {}\n",
    "\n",
    "  copy = dataset.copy()\n",
    "\n",
    "  for col in copy.columns:\n",
    "    scale = {\n",
    "      'min': copy[col].min(),\n",
    "      'max': copy[col].max()\n",
    "    }\n",
    "    scale['diff'] = scale['max'] - scale['min']\n",
    "    copy[col] = (copy[col] - scale['min']) / scale['diff']\n",
    "\n",
    "    scale_map[col] = scale\n",
    "\n",
    "  return copy, scale_map"
   ]
  },
  {
   "cell_type": "code",
   "execution_count": 218,
   "metadata": {},
   "outputs": [
    {
     "data": {
      "text/html": [
       "<div>\n",
       "<style scoped>\n",
       "    .dataframe tbody tr th:only-of-type {\n",
       "        vertical-align: middle;\n",
       "    }\n",
       "\n",
       "    .dataframe tbody tr th {\n",
       "        vertical-align: top;\n",
       "    }\n",
       "\n",
       "    .dataframe thead th {\n",
       "        text-align: right;\n",
       "    }\n",
       "</style>\n",
       "<table border=\"1\" class=\"dataframe\">\n",
       "  <thead>\n",
       "    <tr style=\"text-align: right;\">\n",
       "      <th></th>\n",
       "      <th>R&amp;D Spend</th>\n",
       "      <th>Administration</th>\n",
       "      <th>Marketing Spend</th>\n",
       "      <th>State</th>\n",
       "      <th>Profit</th>\n",
       "    </tr>\n",
       "  </thead>\n",
       "  <tbody>\n",
       "    <tr>\n",
       "      <th>0</th>\n",
       "      <td>1.000000</td>\n",
       "      <td>0.651744</td>\n",
       "      <td>1.000000</td>\n",
       "      <td>0.0</td>\n",
       "      <td>1.000000</td>\n",
       "    </tr>\n",
       "    <tr>\n",
       "      <th>1</th>\n",
       "      <td>0.983359</td>\n",
       "      <td>0.761972</td>\n",
       "      <td>0.940893</td>\n",
       "      <td>0.5</td>\n",
       "      <td>0.997355</td>\n",
       "    </tr>\n",
       "    <tr>\n",
       "      <th>2</th>\n",
       "      <td>0.927985</td>\n",
       "      <td>0.379579</td>\n",
       "      <td>0.864664</td>\n",
       "      <td>1.0</td>\n",
       "      <td>0.993178</td>\n",
       "    </tr>\n",
       "    <tr>\n",
       "      <th>3</th>\n",
       "      <td>0.873136</td>\n",
       "      <td>0.512998</td>\n",
       "      <td>0.812235</td>\n",
       "      <td>0.0</td>\n",
       "      <td>0.947292</td>\n",
       "    </tr>\n",
       "    <tr>\n",
       "      <th>4</th>\n",
       "      <td>0.859438</td>\n",
       "      <td>0.305328</td>\n",
       "      <td>0.776136</td>\n",
       "      <td>1.0</td>\n",
       "      <td>0.853171</td>\n",
       "    </tr>\n",
       "  </tbody>\n",
       "</table>\n",
       "</div>"
      ],
      "text/plain": [
       "   R&D Spend  Administration  Marketing Spend State    Profit\n",
       "0   1.000000        0.651744         1.000000   0.0  1.000000\n",
       "1   0.983359        0.761972         0.940893   0.5  0.997355\n",
       "2   0.927985        0.379579         0.864664   1.0  0.993178\n",
       "3   0.873136        0.512998         0.812235   0.0  0.947292\n",
       "4   0.859438        0.305328         0.776136   1.0  0.853171"
      ]
     },
     "execution_count": 218,
     "metadata": {},
     "output_type": "execute_result"
    }
   ],
   "source": [
    "scaled, scale_map = scale_all_columns(encoded)\n",
    "scaled.head()"
   ]
  },
  {
   "cell_type": "markdown",
   "metadata": {},
   "source": [
    "## Split"
   ]
  },
  {
   "cell_type": "code",
   "execution_count": 219,
   "metadata": {},
   "outputs": [],
   "source": [
    "train_size = 0.8\n",
    "test_size = 0.2"
   ]
  },
  {
   "cell_type": "code",
   "execution_count": 220,
   "metadata": {},
   "outputs": [],
   "source": [
    "output_column = 'Profit'\n",
    "input_columns = scaled.columns.drop(output_column)\n",
    "\n",
    "X = scaled[input_columns]\n",
    "Y = scaled[output_column]"
   ]
  },
  {
   "cell_type": "code",
   "execution_count": 221,
   "metadata": {},
   "outputs": [],
   "source": [
    "import numpy as np"
   ]
  },
  {
   "cell_type": "code",
   "execution_count": 222,
   "metadata": {},
   "outputs": [],
   "source": [
    "def train_test_split(X, Y, train_size, test_size=None):\n",
    "  X = np.array(X)\n",
    "  Y = np.array(Y)\n",
    "  \n",
    "  train_size = train_size or 1 - test_size\n",
    "  n = X.shape[0]\n",
    "\n",
    "  train_size = int(n * train_size)\n",
    "\n",
    "  return X[:train_size], Y[:train_size], X[train_size:], Y[train_size:]"
   ]
  },
  {
   "cell_type": "code",
   "execution_count": 223,
   "metadata": {},
   "outputs": [],
   "source": [
    "X_Train, Y_Train, X_Test, Y_Test = train_test_split(X, Y, train_size, test_size)"
   ]
  },
  {
   "cell_type": "code",
   "execution_count": 224,
   "metadata": {},
   "outputs": [
    {
     "data": {
      "text/plain": [
       "((40, 4), (40,), (10, 4), (10,))"
      ]
     },
     "execution_count": 224,
     "metadata": {},
     "output_type": "execute_result"
    }
   ],
   "source": [
    "X_Train.shape, Y_Train.shape, X_Test.shape, Y_Test.shape"
   ]
  },
  {
   "cell_type": "markdown",
   "metadata": {},
   "source": [
    "## Hyper-Parameters"
   ]
  },
  {
   "cell_type": "code",
   "execution_count": 225,
   "metadata": {},
   "outputs": [],
   "source": [
    "import numpy as np"
   ]
  },
  {
   "cell_type": "code",
   "execution_count": 226,
   "metadata": {},
   "outputs": [],
   "source": [
    "learning_rate = 0.01\n",
    "iterations = 1000\n",
    "initial_weights = np.zeros(X.shape[1])"
   ]
  },
  {
   "cell_type": "code",
   "execution_count": 227,
   "metadata": {},
   "outputs": [],
   "source": [
    "def gradient_decent(X, Y, weights, iterations_count, learning_rate, verbose=0):\n",
    "  for _ in range(iterations_count):\n",
    "\n",
    "    if verbose > 0:\n",
    "      print(f\"ITER = {_}, weights = {weights}\")\n",
    "      \n",
    "    for row_idx in range(X.shape[0]):\n",
    "      pred = np.dot(X[row_idx], weights)\n",
    "      error = pred - Y[row_idx]\n",
    "      for col_idx in range(X.shape[1]):\n",
    "        weights[col_idx] -= error * learning_rate * X[row_idx][col_idx]\n",
    "\n",
    "      if verbose > 1:\n",
    "        print(f\"sample = {row_idx}, error = {error}, weights = {weights}\")\n",
    "\n",
    "\n",
    "  return weights\n"
   ]
  },
  {
   "cell_type": "code",
   "execution_count": 228,
   "metadata": {},
   "outputs": [],
   "source": [
    "def multi_linear_regression(X_Train, Y_Train, X_Test, Y_Test, initial_weights, iterations=1000, learning_rate=0.01, verbose=0):\n",
    "\n",
    "  trained_weights = gradient_decent(\n",
    "    X_Train,\n",
    "    Y_Train,\n",
    "    initial_weights,\n",
    "    iterations,\n",
    "    learning_rate,\n",
    "    verbose\n",
    "  )\n",
    "  \n",
    "  Y_Predicted = []\n",
    "  for row_idx in range(X_Test.shape[0]):\n",
    "    Y_Predicted.append(np.dot(X_Test[row_idx], trained_weights))\n",
    "\n",
    "  return Y_Predicted\n",
    "  \n",
    "  "
   ]
  },
  {
   "cell_type": "code",
   "execution_count": 229,
   "metadata": {},
   "outputs": [],
   "source": [
    "Y_Predicted = multi_linear_regression(\n",
    "  X_Train,\n",
    "  Y_Train,\n",
    "  X_Test,\n",
    "  Y_Test,\n",
    "  initial_weights,\n",
    "  iterations,\n",
    "  learning_rate,\n",
    ")"
   ]
  },
  {
   "cell_type": "markdown",
   "metadata": {},
   "source": [
    "## Un-Scale"
   ]
  },
  {
   "cell_type": "code",
   "execution_count": 230,
   "metadata": {},
   "outputs": [],
   "source": [
    "def unscale(y, map):\n",
    "  for i in range(len(y)):\n",
    "    y[i] = y[i] * (map['max'] - map['min']) + map['diff']\n",
    "  return y"
   ]
  },
  {
   "cell_type": "code",
   "execution_count": 231,
   "metadata": {},
   "outputs": [
    {
     "data": {
      "text/plain": [
       "[232976.7572129908,\n",
       " 228767.20926724828,\n",
       " 222195.87160280396,\n",
       " 208684.62988480064,\n",
       " 223357.6256430516,\n",
       " 193912.15205481913,\n",
       " 225896.6052518302,\n",
       " 199666.25929284474,\n",
       " 178098.21910254945,\n",
       " 199577.45600717855]"
      ]
     },
     "execution_count": 231,
     "metadata": {},
     "output_type": "execute_result"
    }
   ],
   "source": [
    "Y_Predicted_Unscaled = unscale(Y_Predicted, scale_map['Profit'])\n",
    "Y_Predicted_Unscaled"
   ]
  },
  {
   "cell_type": "code",
   "execution_count": 232,
   "metadata": {},
   "outputs": [
    {
     "data": {
      "text/plain": [
       "array([241138.94, 240697.86, 234397.52, 232658.01, 228099.36, 227825.11,\n",
       "       212389.78, 205458.76, 198572.44, 177580.43])"
      ]
     },
     "execution_count": 232,
     "metadata": {},
     "output_type": "execute_result"
    }
   ],
   "source": [
    "Y_Test_Unscaled = unscale(Y_Test, scale_map['Profit'])\n",
    "Y_Test_Unscaled"
   ]
  },
  {
   "cell_type": "markdown",
   "metadata": {},
   "source": [
    "## Metrics"
   ]
  },
  {
   "cell_type": "code",
   "execution_count": 233,
   "metadata": {},
   "outputs": [],
   "source": [
    "def errors(Y_True, Y_Pred):\n",
    "  # mean absolute error\n",
    "  def mae(y_true, y_pred):\n",
    "    n = len(y_true)\n",
    "    return sum(abs(y_true[i] - y_pred[i]) for i in range(n)) / n\n",
    "\n",
    "  # mean squared error\n",
    "  def mse(y_true, y_pred):\n",
    "    n = len(y_true)\n",
    "    return sum((y_true[i] - y_pred[i])**2 for i in range(n)) / n\n",
    "  \n",
    "  return {\n",
    "    'mae': mae(Y_True, Y_Pred),\n",
    "    'mse': mse(Y_True, Y_Pred),\n",
    "  }"
   ]
  },
  {
   "cell_type": "code",
   "execution_count": 234,
   "metadata": {},
   "outputs": [
    {
     "data": {
      "text/plain": [
       "{'mae': 15669.312719790007, 'mse': 322418786.1159522}"
      ]
     },
     "execution_count": 234,
     "metadata": {},
     "output_type": "execute_result"
    }
   ],
   "source": [
    "errors(Y_Test_Unscaled, Y_Predicted_Unscaled)"
   ]
  },
  {
   "cell_type": "code",
   "execution_count": 235,
   "metadata": {},
   "outputs": [],
   "source": [
    "def scores(Y_True, Y_Pred, k):\n",
    "\n",
    "  # R Square\n",
    "  def r_square(y_true, y_pred):\n",
    "    n = len(y_true)\n",
    "    y_mean = sum(y_true) / n\n",
    "    \n",
    "    ss_tot = 0\n",
    "    for num in y_true:\n",
    "      ss_tot += (num - y_mean) ** 2\n",
    "    \n",
    "    ss_res = 0\n",
    "    for i in range(n):\n",
    "      ss_res += (y_true[i] - y_pred[i]) ** 2\n",
    "\n",
    "    return 1 - (ss_res / ss_tot)\n",
    "  \n",
    "  r2 = r_square(Y_True, Y_Pred)\n",
    "\n",
    "  return {\n",
    "    'r2': r2,\n",
    "    'adj_r2': 1 - ((1 - r2) * (Y_True.shape[0] - 1)) / (Y_True.shape[0] - k - 1)\n",
    "  }\n",
    "  \n",
    "  # Adjusted R Square"
   ]
  },
  {
   "cell_type": "code",
   "execution_count": 236,
   "metadata": {},
   "outputs": [
    {
     "data": {
      "text/plain": [
       "{'r2': 0.17273060994221934, 'adj_r2': -0.48908490210400535}"
      ]
     },
     "execution_count": 236,
     "metadata": {},
     "output_type": "execute_result"
    }
   ],
   "source": [
    "scores(Y_Test_Unscaled, Y_Predicted_Unscaled, X_Test.shape[1])"
   ]
  },
  {
   "cell_type": "markdown",
   "metadata": {},
   "source": [
    "## Visualization"
   ]
  },
  {
   "cell_type": "code",
   "execution_count": 238,
   "metadata": {},
   "outputs": [],
   "source": [
    "import matplotlib.pyplot as plt"
   ]
  },
  {
   "cell_type": "code",
   "execution_count": 239,
   "metadata": {},
   "outputs": [
    {
     "data": {
      "text/plain": [
       "[<matplotlib.lines.Line2D at 0x7f0eee45d100>]"
      ]
     },
     "execution_count": 239,
     "metadata": {},
     "output_type": "execute_result"
    },
    {
     "data": {
      "image/png": "[encoded data removed]",
      "text/plain": [
       "<Figure size 640x480 with 1 Axes>"
      ]
     },
     "metadata": {},
     "output_type": "display_data"
    }
   ],
   "source": [
    "x = np.arange(len(Y_Test))\n",
    "\n",
    "plt.plot(x, Y_Test_Unscaled, label='Actual', marker='o')\n",
    "plt.plot(x, Y_Predicted_Unscaled, label='Predicted', marker='x')"
   ]
  }
 ],
 "metadata": {
  "kernelspec": {
   "display_name": "Python 3",
   "language": "python",
   "name": "python3"
  },
  "language_info": {
   "codemirror_mode": {
    "name": "ipython",
    "version": 3
   },
   "file_extension": ".py",
   "mimetype": "text/x-python",
   "name": "python",
   "nbconvert_exporter": "python",
   "pygments_lexer": "ipython3",
   "version": "3.12.3"
  }
 },
 "nbformat": 4,
 "nbformat_minor": 2
}
