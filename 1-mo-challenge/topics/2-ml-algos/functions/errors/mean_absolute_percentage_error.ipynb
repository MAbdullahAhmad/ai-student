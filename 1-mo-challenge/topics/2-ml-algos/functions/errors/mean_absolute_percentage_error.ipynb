{
 "cells": [
  {
   "cell_type": "code",
   "execution_count": 1,
   "metadata": {},
   "outputs": [],
   "source": [
    "# Sample dataset\n",
    "data = {\n",
    "  'Actual': [3, -0.5, 2, 7, 4.2, 5.1, 8, 6.7, 3.5, 1.3],\n",
    "  'Predicted': [2.5, 0.0, 2, 8, 4, 5.5, 7.8, 6.4, 3.6, 1.8]\n",
    "}"
   ]
  },
  {
   "cell_type": "code",
   "execution_count": 2,
   "metadata": {},
   "outputs": [],
   "source": [
    "# simple form\n",
    "\n",
    "def mean_absolute_error(y_true, y_pred):\n",
    "  number_of_samples = len(y_true)\n",
    "\n",
    "  error = 0\n",
    "\n",
    "  for i in range(number_of_samples):\n",
    "    error += abs(y_pred[i] - y_true[i])\n",
    "\n",
    "  return error / number_of_samples\n",
    "\n",
    "# multiply with 100 to get %age\n",
    "def mean_absolute_percentage_error(y_true, y_pred):\n",
    "  return mean_absolute_error(y_true, y_pred) * 100"
   ]
  },
  {
   "cell_type": "code",
   "execution_count": 8,
   "metadata": {},
   "outputs": [
    {
     "data": {
      "text/plain": [
       "37.0"
      ]
     },
     "execution_count": 8,
     "metadata": {},
     "output_type": "execute_result"
    }
   ],
   "source": [
    "round(mean_absolute_percentage_error(data['Actual'], data['Predicted']), 2)"
   ]
  },
  {
   "cell_type": "code",
   "execution_count": 13,
   "metadata": {},
   "outputs": [],
   "source": [
    "# compact form\n",
    "def mape_compact(y_true, y_pred):\n",
    "  n = len(y_true)\n",
    "  return 100 * sum(abs(y_true[i] - y_pred[i]) for i in range(n)) / n"
   ]
  },
  {
   "cell_type": "code",
   "execution_count": 14,
   "metadata": {},
   "outputs": [
    {
     "data": {
      "text/plain": [
       "37.0"
      ]
     },
     "execution_count": 14,
     "metadata": {},
     "output_type": "execute_result"
    }
   ],
   "source": [
    "round(\n",
    "  mape_compact(data['Actual'], data['Predicted']),\n",
    "  2\n",
    ")"
   ]
  }
 ],
 "metadata": {
  "kernelspec": {
   "display_name": "Python 3",
   "language": "python",
   "name": "python3"
  },
  "language_info": {
   "codemirror_mode": {
    "name": "ipython",
    "version": 3
   },
   "file_extension": ".py",
   "mimetype": "text/x-python",
   "name": "python",
   "nbconvert_exporter": "python",
   "pygments_lexer": "ipython3",
   "version": "3.12.3"
  }
 },
 "nbformat": 4,
 "nbformat_minor": 2
}
