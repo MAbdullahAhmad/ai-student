{
 "cells": [
  {
   "cell_type": "markdown",
   "metadata": {},
   "source": [
    "### R-squared (R²)\n",
    "\n",
    "R-squared, also known as the coefficient of determination, measures the proportion of the variance in the dependent variable that is predictable from the independent variable(s). It provides an indication of the goodness of fit of the model.\n",
    "\n",
    "#### Mathematical Formula\n",
    "\n",
    "\\[ R^2 = 1 - \\frac{SS_{\\text{res}}}{SS_{\\text{tot}}} \\]\n",
    "\n",
    "Where:\n",
    "- ${ SS_{\\text{res}} }$ (Sum of Squares of Residuals) = ${ \\sum (y_i - \\hat{y}_i)^2 }$\n",
    "- ${ SS_{\\text{tot}} }$ (Total Sum of Squares) = ${ \\sum (y_i - \\bar{y})^2 }$\n",
    "- ${ y_i }$ are the actual values\n",
    "- ${ \\hat{y}_i }$ are the predicted values\n",
    "- ${ \\bar{y} }$ is the mean of the actual values\n",
    "\n",
    "#### Explanation\n",
    "1. **Total Sum of Squares (SS_tot)**: Measures the total variance in the actual values ${ y_i }$.\n",
    "2. **Sum of Squares of Residuals (SS_res)**: Measures the variance in the residuals (differences between actual and predicted values).\n",
    "3. **R-squared Value**: The closer ${ R^2 }$ is to 1, the better the model explains the variance in the dependent variable."
   ]
  },
  {
   "cell_type": "code",
   "execution_count": 1,
   "metadata": {},
   "outputs": [],
   "source": [
    "# Sample dataset\n",
    "data = {\n",
    "  'Actual': [3, -0.5, 2, 7, 4.2, 5.1, 8, 6.7, 3.5, 1.3],\n",
    "  'Predicted': [2.5, 0.0, 2, 8, 4, 5.5, 7.8, 6.4, 3.6, 1.8]\n",
    "}"
   ]
  },
  {
   "cell_type": "code",
   "execution_count": 2,
   "metadata": {},
   "outputs": [],
   "source": [
    "# Simple\n",
    "\n",
    "def r_square(y_true, y_pred):\n",
    "  n = len(y_true)\n",
    "  y_mean = sum(y_true) / n\n",
    "  \n",
    "  ss_tot = 0\n",
    "  for num in y_true:\n",
    "    ss_tot += (num - y_mean) ** 2\n",
    "  \n",
    "  ss_res = 0\n",
    "  for i in range(n):\n",
    "    ss_res += (y_true[i] - y_pred[i]) ** 2\n",
    "\n",
    "  return 1 - (ss_res / ss_tot)"
   ]
  },
  {
   "cell_type": "code",
   "execution_count": 13,
   "metadata": {},
   "outputs": [],
   "source": [
    "k = 10\n",
    "n = len(data['Actual'])"
   ]
  },
  {
   "cell_type": "code",
   "execution_count": 14,
   "metadata": {},
   "outputs": [],
   "source": [
    "r2 = r_square(data['Actual'], data['Predicted'])"
   ]
  },
  {
   "cell_type": "code",
   "execution_count": 15,
   "metadata": {},
   "outputs": [],
   "source": [
    "adj_r2 = 1 - ((1 - r2) * (n - 1)) / (n - k - 1)"
   ]
  },
  {
   "cell_type": "code",
   "execution_count": 16,
   "metadata": {},
   "outputs": [
    {
     "data": {
      "text/plain": [
       "1.2836205726692906"
      ]
     },
     "execution_count": 16,
     "metadata": {},
     "output_type": "execute_result"
    }
   ],
   "source": [
    "adj_r2"
   ]
  },
  {
   "cell_type": "code",
   "execution_count": 17,
   "metadata": {},
   "outputs": [
    {
     "data": {
      "text/plain": [
       "0.9684866030367455"
      ]
     },
     "execution_count": 17,
     "metadata": {},
     "output_type": "execute_result"
    }
   ],
   "source": [
    "r2"
   ]
  }
 ],
 "metadata": {
  "kernelspec": {
   "display_name": "Python 3",
   "language": "python",
   "name": "python3"
  },
  "language_info": {
   "codemirror_mode": {
    "name": "ipython",
    "version": 3
   },
   "file_extension": ".py",
   "mimetype": "text/x-python",
   "name": "python",
   "nbconvert_exporter": "python",
   "pygments_lexer": "ipython3",
   "version": "3.12.3"
  }
 },
 "nbformat": 4,
 "nbformat_minor": 2
}
