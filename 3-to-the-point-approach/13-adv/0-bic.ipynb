{
 "cells": [
  {
   "cell_type": "markdown",
   "metadata": {},
   "source": [
    "## Bayes Information Criatorion\n",
    "\n",
    "![BIC](../_/media/13-adv/bic.png)"
   ]
  }
 ],
 "metadata": {
  "language_info": {
   "name": "python"
  }
 },
 "nbformat": 4,
 "nbformat_minor": 2
}
