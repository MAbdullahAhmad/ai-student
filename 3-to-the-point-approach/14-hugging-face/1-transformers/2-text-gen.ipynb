{
 "cells": [
  {
   "cell_type": "code",
   "execution_count": 8,
   "metadata": {},
   "outputs": [],
   "source": [
    "from transformers import pipeline, set_seed"
   ]
  },
  {
   "cell_type": "code",
   "execution_count": 5,
   "metadata": {},
   "outputs": [
    {
     "name": "stderr",
     "output_type": "stream",
     "text": [
      "/home/anderson/.local/lib/python3.12/site-packages/huggingface_hub/file_download.py:1132: FutureWarning: `resume_download` is deprecated and will be removed in version 1.0.0. Downloads always resume when possible. If you want to force a new download, use `force_download=True`.\n",
      "  warnings.warn(\n"
     ]
    }
   ],
   "source": [
    "generator = pipeline('text-generation', 'distilgpt2')"
   ]
  },
  {
   "cell_type": "code",
   "execution_count": 12,
   "metadata": {},
   "outputs": [],
   "source": [
    "set_seed(32)"
   ]
  },
  {
   "cell_type": "code",
   "execution_count": 13,
   "metadata": {},
   "outputs": [
    {
     "name": "stderr",
     "output_type": "stream",
     "text": [
      "Setting `pad_token_id` to `eos_token_id`:50256 for open-end generation.\n"
     ]
    },
    {
     "data": {
      "text/plain": [
       "[{'generated_text': 'Cats are often sold at low prices. In most cases, the price increases are usually small enough to last one year.\\n\\n\\n\\n\\n'},\n",
       " {'generated_text': \"Cats are often a little older or younger than your average child. You've already experienced a similar developmental process, but you still need to be careful\"},\n",
       " {'generated_text': 'Cats are often used as weapons, because you could not make them, nor needed to keep your weapons away.\\n\\n\\n\\nThe last thing'},\n",
       " {'generated_text': 'Cats are often referred to in conjunction with the traditional Japanese diet, a food that is typically used in the late 19th century. The main food'},\n",
       " {'generated_text': 'Cats are often mis-coded as the wrong one, especially in those cases, and the reason why this is so hard to understand is one that'}]"
      ]
     },
     "execution_count": 13,
     "metadata": {},
     "output_type": "execute_result"
    }
   ],
   "source": [
    "generator('Cats are often', max_length=30, num_return_sequences=5)"
   ]
  },
  {
   "cell_type": "code",
   "execution_count": 14,
   "metadata": {},
   "outputs": [
    {
     "name": "stderr",
     "output_type": "stream",
     "text": [
      "Setting `pad_token_id` to `eos_token_id`:50256 for open-end generation.\n"
     ]
    },
    {
     "data": {
      "text/plain": [
       "[{'generated_text': 'Cats are often used to treat cancer, but as many as 10 percent of the population is diagnosed with cancer, it‹s hard to believe'},\n",
       " {'generated_text': 'Cats are often a part only - the majority of the time it is needed to play with it.\\n\\n\\n\\n\\n\\n\\n\\n\\n'},\n",
       " {'generated_text': 'Cats are often used for building a single base. For example, using the top of a new line and extending the base line for building the new'},\n",
       " {'generated_text': 'Cats are often referred to as \\u202aََِّْتَِّاتِ\\u200e, or \\u202aَ�'},\n",
       " {'generated_text': 'Cats are often mistaken for C-types. In most cases, C-type is inferred because C-type is inferred from the C-type'}]"
      ]
     },
     "execution_count": 14,
     "metadata": {},
     "output_type": "execute_result"
    }
   ],
   "source": [
    "generator('Cats are often', max_length=30, num_return_sequences=5)"
   ]
  },
  {
   "cell_type": "code",
   "execution_count": 16,
   "metadata": {},
   "outputs": [
    {
     "name": "stderr",
     "output_type": "stream",
     "text": [
      "Setting `pad_token_id` to `eos_token_id`:50256 for open-end generation.\n"
     ]
    },
    {
     "data": {
      "text/plain": [
       "[{'generated_text': 'Artificial Intelligence will cause iphone and other devices to have a much bigger impact than the previous generations, meaning the device is not compatible with the'},\n",
       " {'generated_text': 'Artificial Intelligence will cause \\xa0 the loss of our minds, our bodies and our organs, or at least their parts. We have a way of'},\n",
       " {'generated_text': \"Artificial Intelligence will cause ichai to get the power back in the heart of the country. There's a lot of talk about technology that works\"},\n",
       " {'generated_text': 'Artificial Intelligence will cause __________ to break the law about its impact on the American economy. However, a recent Wall Street Journal article also highlights'},\n",
       " {'generated_text': 'Artificial Intelligence will cause vernacular translations of English and Indian language texts to become more comprehensible. The current understanding of linguistics and understanding of'}]"
      ]
     },
     "execution_count": 16,
     "metadata": {},
     "output_type": "execute_result"
    }
   ],
   "source": [
    "generator('Artificial Intelligence will cause ', max_length=30, num_return_sequences=5)"
   ]
  },
  {
   "cell_type": "code",
   "execution_count": null,
   "metadata": {},
   "outputs": [],
   "source": []
  }
 ],
 "metadata": {
  "kernelspec": {
   "display_name": "Python 3",
   "language": "python",
   "name": "python3"
  },
  "language_info": {
   "codemirror_mode": {
    "name": "ipython",
    "version": 3
   },
   "file_extension": ".py",
   "mimetype": "text/x-python",
   "name": "python",
   "nbconvert_exporter": "python",
   "pygments_lexer": "ipython3",
   "version": "3.12.3"
  }
 },
 "nbformat": 4,
 "nbformat_minor": 2
}
