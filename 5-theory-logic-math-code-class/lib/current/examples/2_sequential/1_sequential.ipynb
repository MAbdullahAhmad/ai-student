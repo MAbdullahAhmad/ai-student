{
 "cells": [
  {
   "cell_type": "code",
   "execution_count": 1,
   "metadata": {},
   "outputs": [],
   "source": [
    "import sys; sys.path.append('../../')"
   ]
  },
  {
   "cell_type": "code",
   "execution_count": 3,
   "metadata": {},
   "outputs": [],
   "source": [
    "from examples._datasets.d2_doors_light_dataset import X, Y"
   ]
  },
  {
   "cell_type": "markdown",
   "metadata": {},
   "source": [
    "## `Sequential` usage"
   ]
  },
  {
   "cell_type": "code",
   "execution_count": 4,
   "metadata": {},
   "outputs": [],
   "source": [
    "from src.sequential.Sequential import Sequential\n",
    "from src.layers.Layer import Layer"
   ]
  },
  {
   "cell_type": "markdown",
   "metadata": {},
   "source": [
    "### Quick Use"
   ]
  },
  {
   "cell_type": "code",
   "execution_count": 5,
   "metadata": {},
   "outputs": [],
   "source": [
    "model = Sequential([\n",
    "  Layer(3, 3),\n",
    "  Layer(1, 3),\n",
    "])"
   ]
  },
  {
   "cell_type": "code",
   "execution_count": 6,
   "metadata": {},
   "outputs": [],
   "source": [
    "model.train(X, Y, epochs=2000, learning_rate=0.1)"
   ]
  },
  {
   "cell_type": "code",
   "execution_count": 7,
   "metadata": {},
   "outputs": [
    {
     "name": "stdout",
     "output_type": "stream",
     "text": [
      "predicted = 0.99 actual = 1\n",
      "predicted = 0.005 actual = 0\n",
      "predicted = 1.0 actual = 1\n",
      "predicted = 0.005 actual = 0\n",
      "predicted = 0.006 actual = 0\n",
      "predicted = 0.005 actual = 0\n",
      "predicted = 0.99 actual = 1\n",
      "predicted = 1.0 actual = 1\n",
      "predicted = 1.0 actual = 1\n",
      "predicted = 0.005 actual = 0\n"
     ]
    }
   ],
   "source": [
    "# testing\n",
    "for i in range(len(X)):\n",
    "  print('predicted =', round(model.forward(X[i])[0], 3), 'actual =', Y[i])"
   ]
  },
  {
   "cell_type": "markdown",
   "metadata": {},
   "source": [
    "### Detailed Use"
   ]
  },
  {
   "cell_type": "code",
   "execution_count": 8,
   "metadata": {},
   "outputs": [],
   "source": [
    "from src.activation.Sigmoid import Sigmoid\n",
    "from src.losses.MeanSquaredError import MeanSquaredError"
   ]
  },
  {
   "cell_type": "code",
   "execution_count": 9,
   "metadata": {},
   "outputs": [],
   "source": [
    "model = Sequential([\n",
    "  Layer(count=3, input_size=3, activation=Sigmoid()),\n",
    "  Layer(count=1, input_size=3, activation=Sigmoid()),\n",
    "])"
   ]
  },
  {
   "cell_type": "code",
   "execution_count": 12,
   "metadata": {},
   "outputs": [],
   "source": [
    "model.train(\n",
    "  X=X, Y=Y,\n",
    "  epochs=2000,\n",
    "  loss_function=MeanSquaredError(),\n",
    "  learning_rate=0.1,\n",
    ")"
   ]
  },
  {
   "cell_type": "code",
   "execution_count": 13,
   "metadata": {},
   "outputs": [
    {
     "name": "stdout",
     "output_type": "stream",
     "text": [
      "predicted = 0.99 actual = 1\n",
      "predicted = 0.005 actual = 0\n",
      "predicted = 1.0 actual = 1\n",
      "predicted = 0.005 actual = 0\n",
      "predicted = 0.006 actual = 0\n",
      "predicted = 0.005 actual = 0\n",
      "predicted = 0.99 actual = 1\n",
      "predicted = 1.0 actual = 1\n",
      "predicted = 1.0 actual = 1\n",
      "predicted = 0.005 actual = 0\n"
     ]
    }
   ],
   "source": [
    "# testing\n",
    "for i in range(len(X)):\n",
    "  print('predicted =', round(model.forward(X[i])[0], 3), 'actual =', Y[i])"
   ]
  }
 ],
 "metadata": {
  "kernelspec": {
   "display_name": "Python 3",
   "language": "python",
   "name": "python3"
  },
  "language_info": {
   "codemirror_mode": {
    "name": "ipython",
    "version": 3
   },
   "file_extension": ".py",
   "mimetype": "text/x-python",
   "name": "python",
   "nbconvert_exporter": "python",
   "pygments_lexer": "ipython3",
   "version": "3.12.3"
  }
 },
 "nbformat": 4,
 "nbformat_minor": 2
}
