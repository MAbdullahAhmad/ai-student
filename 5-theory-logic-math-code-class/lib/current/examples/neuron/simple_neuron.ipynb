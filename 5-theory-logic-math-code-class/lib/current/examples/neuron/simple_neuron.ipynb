{
 "cells": [
  {
   "cell_type": "markdown",
   "metadata": {},
   "source": [
    "## Imports"
   ]
  },
  {
   "cell_type": "code",
   "execution_count": 2,
   "metadata": {},
   "outputs": [],
   "source": [
    "import sys; sys.path.append('../../')"
   ]
  },
  {
   "cell_type": "code",
   "execution_count": 15,
   "metadata": {},
   "outputs": [],
   "source": [
    "import pandas as pd\n",
    "import numpy as np"
   ]
  },
  {
   "cell_type": "markdown",
   "metadata": {},
   "source": [
    "## Dataset"
   ]
  },
  {
   "cell_type": "code",
   "execution_count": 29,
   "metadata": {},
   "outputs": [
    {
     "data": {
      "text/html": [
       "<div>\n",
       "<style scoped>\n",
       "    .dataframe tbody tr th:only-of-type {\n",
       "        vertical-align: middle;\n",
       "    }\n",
       "\n",
       "    .dataframe tbody tr th {\n",
       "        vertical-align: top;\n",
       "    }\n",
       "\n",
       "    .dataframe thead th {\n",
       "        text-align: right;\n",
       "    }\n",
       "</style>\n",
       "<table border=\"1\" class=\"dataframe\">\n",
       "  <thead>\n",
       "    <tr style=\"text-align: right;\">\n",
       "      <th></th>\n",
       "      <th>ram</th>\n",
       "      <th>freq</th>\n",
       "      <th>gen</th>\n",
       "      <th>shared</th>\n",
       "      <th>gpu</th>\n",
       "      <th>model</th>\n",
       "    </tr>\n",
       "  </thead>\n",
       "  <tbody>\n",
       "    <tr>\n",
       "      <th>0</th>\n",
       "      <td>8</td>\n",
       "      <td>2.4</td>\n",
       "      <td>8</td>\n",
       "      <td>0</td>\n",
       "      <td>2</td>\n",
       "      <td>0</td>\n",
       "    </tr>\n",
       "    <tr>\n",
       "      <th>1</th>\n",
       "      <td>16</td>\n",
       "      <td>3.1</td>\n",
       "      <td>10</td>\n",
       "      <td>2</td>\n",
       "      <td>4</td>\n",
       "      <td>1</td>\n",
       "    </tr>\n",
       "    <tr>\n",
       "      <th>2</th>\n",
       "      <td>4</td>\n",
       "      <td>1.8</td>\n",
       "      <td>6</td>\n",
       "      <td>1</td>\n",
       "      <td>1</td>\n",
       "      <td>0</td>\n",
       "    </tr>\n",
       "    <tr>\n",
       "      <th>3</th>\n",
       "      <td>12</td>\n",
       "      <td>2.8</td>\n",
       "      <td>9</td>\n",
       "      <td>1</td>\n",
       "      <td>3</td>\n",
       "      <td>1</td>\n",
       "    </tr>\n",
       "    <tr>\n",
       "      <th>4</th>\n",
       "      <td>32</td>\n",
       "      <td>3.5</td>\n",
       "      <td>11</td>\n",
       "      <td>0</td>\n",
       "      <td>6</td>\n",
       "      <td>1</td>\n",
       "    </tr>\n",
       "  </tbody>\n",
       "</table>\n",
       "</div>"
      ],
      "text/plain": [
       "   ram  freq  gen  shared  gpu  model\n",
       "0    8   2.4    8       0    2      0\n",
       "1   16   3.1   10       2    4      1\n",
       "2    4   1.8    6       1    1      0\n",
       "3   12   2.8    9       1    3      1\n",
       "4   32   3.5   11       0    6      1"
      ]
     },
     "execution_count": 29,
     "metadata": {},
     "output_type": "execute_result"
    }
   ],
   "source": [
    "df = pd.read_csv('../_datasets/1_system_specs_to_run_ai_model.csv')\n",
    "df.head()"
   ]
  },
  {
   "cell_type": "code",
   "execution_count": 52,
   "metadata": {},
   "outputs": [],
   "source": [
    "X, Y = np.array(df.iloc[:, :-1]), np.array(df['model'])"
   ]
  },
  {
   "cell_type": "markdown",
   "metadata": {},
   "source": [
    "## `SimpleNeuron` usage"
   ]
  },
  {
   "cell_type": "code",
   "execution_count": 53,
   "metadata": {},
   "outputs": [],
   "source": [
    "from src.neuron.SimpleNeuron import SimpleNeuron"
   ]
  },
  {
   "cell_type": "markdown",
   "metadata": {},
   "source": [
    "### Quick Use"
   ]
  },
  {
   "cell_type": "code",
   "execution_count": 63,
   "metadata": {},
   "outputs": [],
   "source": [
    "neuron = SimpleNeuron(5)"
   ]
  },
  {
   "cell_type": "code",
   "execution_count": 64,
   "metadata": {},
   "outputs": [
    {
     "name": "stdout",
     "output_type": "stream",
     "text": [
      "epoch=1, error-avg=-0.09\n",
      "epoch=2, error-avg=-0.02\n",
      "epoch=3, error-avg=0.0\n",
      "epoch=4, error-avg=0.0\n",
      "epoch=5, error-avg=0.0\n",
      "epoch=6, error-avg=0.0\n",
      "epoch=7, error-avg=0.0\n",
      "epoch=8, error-avg=0.0\n",
      "epoch=9, error-avg=0.0\n",
      "epoch=10, error-avg=0.0\n",
      "epoch=11, error-avg=0.0\n",
      "epoch=12, error-avg=0.0\n",
      "epoch=13, error-avg=0.0\n",
      "epoch=14, error-avg=0.0\n",
      "epoch=15, error-avg=0.0\n",
      "epoch=16, error-avg=0.0\n",
      "epoch=17, error-avg=0.0\n",
      "epoch=18, error-avg=0.0\n",
      "epoch=19, error-avg=0.0\n",
      "epoch=20, error-avg=0.0\n",
      "epoch=21, error-avg=0.0\n",
      "epoch=22, error-avg=0.0\n",
      "epoch=23, error-avg=0.0\n",
      "epoch=24, error-avg=0.0\n",
      "epoch=25, error-avg=0.0\n",
      "epoch=26, error-avg=0.0\n",
      "epoch=27, error-avg=0.0\n",
      "epoch=28, error-avg=0.0\n",
      "epoch=29, error-avg=0.0\n",
      "epoch=30, error-avg=0.0\n",
      "epoch=31, error-avg=0.0\n",
      "epoch=32, error-avg=0.0\n",
      "epoch=33, error-avg=0.0\n",
      "epoch=34, error-avg=0.0\n",
      "epoch=35, error-avg=0.0\n",
      "epoch=36, error-avg=0.0\n",
      "epoch=37, error-avg=0.0\n",
      "epoch=38, error-avg=0.0\n",
      "epoch=39, error-avg=0.0\n",
      "epoch=40, error-avg=0.0\n",
      "epoch=41, error-avg=0.0\n",
      "epoch=42, error-avg=0.0\n",
      "epoch=43, error-avg=0.0\n",
      "epoch=44, error-avg=0.0\n",
      "epoch=45, error-avg=0.0\n",
      "epoch=46, error-avg=0.0\n",
      "epoch=47, error-avg=0.0\n",
      "epoch=48, error-avg=0.0\n",
      "epoch=49, error-avg=0.0\n",
      "epoch=50, error-avg=0.0\n",
      "epoch=51, error-avg=0.0\n",
      "epoch=52, error-avg=0.0\n",
      "epoch=53, error-avg=0.0\n",
      "epoch=54, error-avg=0.0\n",
      "epoch=55, error-avg=0.0\n",
      "epoch=56, error-avg=0.0\n",
      "epoch=57, error-avg=0.0\n",
      "epoch=58, error-avg=0.0\n",
      "epoch=59, error-avg=0.0\n",
      "epoch=60, error-avg=0.0\n",
      "epoch=61, error-avg=0.0\n",
      "epoch=62, error-avg=0.0\n",
      "epoch=63, error-avg=0.0\n",
      "epoch=64, error-avg=0.0\n",
      "epoch=65, error-avg=0.0\n",
      "epoch=66, error-avg=0.0\n",
      "epoch=67, error-avg=0.0\n",
      "epoch=68, error-avg=0.0\n",
      "epoch=69, error-avg=0.0\n",
      "epoch=70, error-avg=0.0\n",
      "epoch=71, error-avg=0.0\n",
      "epoch=72, error-avg=0.0\n",
      "epoch=73, error-avg=0.0\n",
      "epoch=74, error-avg=0.0\n",
      "epoch=75, error-avg=0.0\n",
      "epoch=76, error-avg=0.0\n",
      "epoch=77, error-avg=0.0\n",
      "epoch=78, error-avg=0.0\n",
      "epoch=79, error-avg=0.0\n",
      "epoch=80, error-avg=0.0\n",
      "epoch=81, error-avg=0.0\n",
      "epoch=82, error-avg=0.0\n",
      "epoch=83, error-avg=0.0\n",
      "epoch=84, error-avg=0.0\n",
      "epoch=85, error-avg=0.0\n",
      "epoch=86, error-avg=0.0\n",
      "epoch=87, error-avg=0.0\n",
      "epoch=88, error-avg=0.0\n",
      "epoch=89, error-avg=0.0\n",
      "epoch=90, error-avg=0.0\n",
      "epoch=91, error-avg=0.0\n",
      "epoch=92, error-avg=0.0\n",
      "epoch=93, error-avg=0.0\n",
      "epoch=94, error-avg=0.0\n",
      "epoch=95, error-avg=0.0\n",
      "epoch=96, error-avg=0.0\n",
      "epoch=97, error-avg=0.0\n",
      "epoch=98, error-avg=0.0\n",
      "epoch=99, error-avg=0.0\n",
      "epoch=100, error-avg=0.0\n"
     ]
    }
   ],
   "source": [
    "neuron.train(X, Y)"
   ]
  },
  {
   "cell_type": "code",
   "execution_count": 65,
   "metadata": {},
   "outputs": [
    {
     "data": {
      "text/plain": [
       "{'total': 85, 'accurate': 85, 'wrong': 0}"
      ]
     },
     "execution_count": 65,
     "metadata": {},
     "output_type": "execute_result"
    }
   ],
   "source": [
    "neuron.test(X, Y)"
   ]
  },
  {
   "cell_type": "markdown",
   "metadata": {},
   "source": [
    "### Detailed Use"
   ]
  },
  {
   "cell_type": "code",
   "execution_count": 66,
   "metadata": {},
   "outputs": [],
   "source": [
    "neuron = SimpleNeuron(\n",
    "  input_size=5,\n",
    "  learning_rate=0.01,\n",
    "  initial_weights=np.repeat(1, X.shape[1]),\n",
    "  initial_bias=1.2\n",
    ")"
   ]
  },
  {
   "cell_type": "code",
   "execution_count": 67,
   "metadata": {},
   "outputs": [],
   "source": [
    "neuron.train(\n",
    "  inputs=X,\n",
    "  outputs=Y,\n",
    "  epochs=100,\n",
    "  verbose=0\n",
    ")"
   ]
  },
  {
   "cell_type": "code",
   "execution_count": 68,
   "metadata": {},
   "outputs": [
    {
     "data": {
      "text/plain": [
       "{'total': 85, 'accurate': 85, 'wrong': 0}"
      ]
     },
     "execution_count": 68,
     "metadata": {},
     "output_type": "execute_result"
    }
   ],
   "source": [
    "neuron.test(\n",
    "  inputs=X,\n",
    "  outputs=Y,\n",
    "  verbose=0\n",
    ")"
   ]
  }
 ],
 "metadata": {
  "kernelspec": {
   "display_name": "Python 3",
   "language": "python",
   "name": "python3"
  },
  "language_info": {
   "codemirror_mode": {
    "name": "ipython",
    "version": 3
   },
   "file_extension": ".py",
   "mimetype": "text/x-python",
   "name": "python",
   "nbconvert_exporter": "python",
   "pygments_lexer": "ipython3",
   "version": "3.12.3"
  }
 },
 "nbformat": 4,
 "nbformat_minor": 2
}
