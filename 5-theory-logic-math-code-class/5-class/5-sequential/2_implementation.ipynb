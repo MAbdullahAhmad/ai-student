{
 "cells": [
  {
   "cell_type": "code",
   "execution_count": 125,
   "metadata": {},
   "outputs": [],
   "source": [
    "import sys\n",
    "import numpy as np\n",
    "\n",
    "sys.path.append('../../lib/current/')"
   ]
  },
  {
   "cell_type": "markdown",
   "metadata": {},
   "source": [
    "## Neural Network from Scratch - 2\n",
    "\n",
    "we shall use `Neuron` from [Neuron.py](../../lib/release/v0.1.11-beta/src/neuron/Neuron.py).\n",
    "\n",
    "and previous knowledge from [1_study.ipynb](1_study.ipynb)"
   ]
  },
  {
   "cell_type": "code",
   "execution_count": 126,
   "metadata": {},
   "outputs": [],
   "source": [
    "from src.neuron.Neuron import Neuron\n",
    "from src.core.Activation import Activation\n",
    "from collections.abc import Iterable\n",
    "from numbers import Number"
   ]
  },
  {
   "cell_type": "code",
   "execution_count": 127,
   "metadata": {},
   "outputs": [],
   "source": [
    "class Layer:\n",
    "  # constructor\n",
    "  def __init__(self, count:int, input_size:int, activation:str|Activation):\n",
    "    self.neurons = [\n",
    "      Neuron(\n",
    "        input_size=input_size,\n",
    "        activation=activation\n",
    "      ) for _ in range(count)\n",
    "    ]\n",
    "\n",
    "  # forward\n",
    "  def forward(self, inputs):\n",
    "    outputs = np.array([neuron.forward(inputs) for neuron in self.neurons])\n",
    "    return outputs\n",
    "\n",
    "  # backward\n",
    "  def backward(self, errors, learning_rate):\n",
    "    next_errors = np.zeros(len(self.neurons[0].weights))\n",
    "    \n",
    "    for i, neuron in enumerate(self.neurons):\n",
    "      next_errors += neuron.backward(error=errors[i], learning_rate=learning_rate)\n",
    "    \n",
    "    return next_errors\n"
   ]
  },
  {
   "cell_type": "code",
   "execution_count": 128,
   "metadata": {},
   "outputs": [],
   "source": [
    "class Sequential:\n",
    "  def __init__(self, layers:Iterable=None):\n",
    "    self.layers = layers or []\n",
    "\n",
    "  def add(self, layer:Layer):\n",
    "    self.layers.append(layer)\n",
    "\n",
    "  def forward(self, inputs:Iterable):\n",
    "    for layer in self.layers:\n",
    "      inputs = layer.forward(inputs)\n",
    "    return inputs\n",
    "\n",
    "  def backward(self, error:Number|Iterable, learning_rate:Number):\n",
    "    for layer in reversed(self.layers):\n",
    "      error = layer.backward(error, learning_rate)\n",
    "\n",
    "  def train(self, X, y, loss, epochs, learning_rate):\n",
    "    for _ in range(epochs):\n",
    "      for i in range(len(X)):\n",
    "        output = self.forward(X[i])\n",
    "        error = loss.derivative(y[i], output)\n",
    "        self.backward(error, learning_rate)\n"
   ]
  },
  {
   "cell_type": "markdown",
   "metadata": {},
   "source": [
    "## Usage"
   ]
  },
  {
   "cell_type": "code",
   "execution_count": 129,
   "metadata": {},
   "outputs": [],
   "source": [
    "from src.activation.Sigmoid      import Sigmoid\n",
    "from src.losses.MeanSquaredError import MeanSquaredError"
   ]
  },
  {
   "cell_type": "code",
   "execution_count": 130,
   "metadata": {},
   "outputs": [],
   "source": [
    "model = Sequential([\n",
    "  Layer(3, 3, Sigmoid()),\n",
    "  Layer(1, 3, Sigmoid()),\n",
    "])"
   ]
  },
  {
   "cell_type": "code",
   "execution_count": 131,
   "metadata": {},
   "outputs": [],
   "source": [
    "from dataset import X, Y"
   ]
  },
  {
   "cell_type": "code",
   "execution_count": 132,
   "metadata": {},
   "outputs": [],
   "source": [
    "model.train(\n",
    "  X, Y,\n",
    "  loss=MeanSquaredError(),\n",
    "  epochs=2000,\n",
    "  learning_rate=0.1\n",
    ")"
   ]
  },
  {
   "cell_type": "code",
   "execution_count": 133,
   "metadata": {},
   "outputs": [
    {
     "name": "stdout",
     "output_type": "stream",
     "text": [
      "predicted = 0.99 actual = 1\n",
      "predicted = 0.005 actual = 0\n",
      "predicted = 1.0 actual = 1\n",
      "predicted = 0.005 actual = 0\n",
      "predicted = 0.006 actual = 0\n",
      "predicted = 0.005 actual = 0\n",
      "predicted = 0.99 actual = 1\n",
      "predicted = 1.0 actual = 1\n",
      "predicted = 1.0 actual = 1\n",
      "predicted = 0.005 actual = 0\n"
     ]
    }
   ],
   "source": [
    "# testing\n",
    "for i in range(len(X)):\n",
    "  print('predicted =', round(model.forward(X[i])[0], 3), 'actual =', Y[i])"
   ]
  }
 ],
 "metadata": {
  "kernelspec": {
   "display_name": "Python 3",
   "language": "python",
   "name": "python3"
  },
  "language_info": {
   "codemirror_mode": {
    "name": "ipython",
    "version": 3
   },
   "file_extension": ".py",
   "mimetype": "text/x-python",
   "name": "python",
   "nbconvert_exporter": "python",
   "pygments_lexer": "ipython3",
   "version": "3.12.3"
  }
 },
 "nbformat": 4,
 "nbformat_minor": 2
}
