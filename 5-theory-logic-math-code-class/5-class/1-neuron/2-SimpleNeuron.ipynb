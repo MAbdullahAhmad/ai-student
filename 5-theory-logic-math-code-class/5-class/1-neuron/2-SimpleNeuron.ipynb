{
 "cells": [
  {
   "cell_type": "markdown",
   "metadata": {},
   "source": [
    "## Simple Neuron\n",
    "\n",
    "|Name| Type|\n",
    "|-|-|\n",
    "|`activation` | threshold|\n",
    "|`loss` | absolute error |\n",
    "|`optimizer` | direct update|"
   ]
  },
  {
   "cell_type": "code",
   "execution_count": 1,
   "metadata": {},
   "outputs": [],
   "source": [
    "import numpy as np\n",
    "from collections.abc import Iterable\n",
    "from numbers import Number"
   ]
  },
  {
   "cell_type": "code",
   "execution_count": 2,
   "metadata": {},
   "outputs": [],
   "source": [
    "class InvalidInitialWeights(Exception): pass\n",
    "\n",
    "class UnexpectedInputsShape(Exception): pass\n",
    "class UnexpectedOutputsShape(Exception): pass"
   ]
  },
  {
   "cell_type": "code",
   "execution_count": 28,
   "metadata": {},
   "outputs": [],
   "source": [
    "class SimpleNeuron():\n",
    "  def __init__(self, input_size:int, learning_rate:float=0.1, initial_weights:Number|Iterable=0, initial_bias:Number=0):\n",
    "\n",
    "    self.input_size = input_size\n",
    "    \n",
    "    if isinstance(initial_weights, Number):                                            self.weights = np.repeat(initial_weights, input_size)\n",
    "    elif isinstance(initial_weights, Iterable) and len(initial_weights) == input_size: self.weights = np.array(initial_weights)\n",
    "    else: raise InvalidInitialWeights(f'Value must be either a number or an Iterable of size {input_size}')\n",
    "\n",
    "    self.bias = initial_bias\n",
    "\n",
    "    self.learning_rate = learning_rate\n",
    "\n",
    "  def threshold_activation(self, x, threshold=0.2):\n",
    "    return 1 if x > threshold else 0\n",
    "  \n",
    "  # forward\n",
    "  def predict(self, x):\n",
    "    # weighted sum\n",
    "    weighted_sum = np.dot(x, self.weights) + self.bias\n",
    "\n",
    "    # activation\n",
    "    predicted = self.threshold_activation(weighted_sum)\n",
    "\n",
    "    # return\n",
    "    return predicted\n",
    "  \n",
    "  def predict_multiple(self, inputs):\n",
    "    inputs = np.array(inputs)\n",
    "    input_shape = inputs.shape\n",
    "\n",
    "    if len(input_shape) < 2 or input_shape[1] != self.input_size:\n",
    "      raise UnexpectedInputsShape(f'Inputs shape must be (n, {self.input_size}). found {input_shape}')\n",
    "\n",
    "    results = []\n",
    "    for i in range(input_shape[0]):\n",
    "      results.append(inputs[i])\n",
    "    return np.array(results)\n",
    "\n",
    "  def forward(self, x, y):\n",
    "    # predicted\n",
    "    predicted = self.predict(x)\n",
    "\n",
    "    # error\n",
    "    error = y - predicted\n",
    "\n",
    "    return predicted, error\n",
    "\n",
    "  def backward(self, error, x):\n",
    "    # update weights\n",
    "    return (\n",
    "      self.weights + self.learning_rate * error * x,\n",
    "      self.bias + self.learning_rate * error\n",
    "    )\n",
    "\n",
    "  def train(self, inputs:Iterable, outputs:Iterable, epochs:int=100, verbose:int=1):\n",
    "    inputs = np.array(inputs)\n",
    "    outputs = np.array(outputs)\n",
    "    input_shape = inputs.shape\n",
    "    output_shape = outputs.shape\n",
    "\n",
    "    if len(input_shape) < 2 or input_shape[1] != self.input_size:\n",
    "      raise UnexpectedInputsShape(f'Inputs shape must be (n, {self.input_size}). found {input_shape}')\n",
    "    if len(output_shape) != 1 or output_shape[0] != input_shape[0]:\n",
    "      raise UnexpectedOutputsShape(f'Outputs size ({output_shape[0]}) differs from no of samples in input ({input_shape[0]})')\n",
    "    \n",
    "    for e in range(epochs):\n",
    "      _e = 0\n",
    "      for i in range(input_shape[0]):\n",
    "        predicted, error = self.forward(inputs[i], outputs[i])\n",
    "        self.weights, self.bias = self.backward(error, inputs[i])\n",
    "        if verbose > 1: print(f'epoch={e+1}, sample={i+1}, error={error}')\n",
    "        _e+=error\n",
    "      if verbose: print(f'epoch={e+1}, error={round(_e / input_shape[0], 2)}')\n"
   ]
  },
  {
   "cell_type": "code",
   "execution_count": 29,
   "metadata": {},
   "outputs": [],
   "source": [
    "neuron = SimpleNeuron(3, initial_weights=[0.5, 0.3, 0.2], initial_bias=2)"
   ]
  },
  {
   "cell_type": "code",
   "execution_count": 30,
   "metadata": {},
   "outputs": [],
   "source": [
    "from dataset import X, Y"
   ]
  },
  {
   "cell_type": "code",
   "execution_count": 31,
   "metadata": {},
   "outputs": [
    {
     "name": "stdout",
     "output_type": "stream",
     "text": [
      "epoch=1, error=-0.2\n",
      "epoch=2, error=-0.3\n",
      "epoch=3, error=-0.2\n",
      "epoch=4, error=-0.3\n",
      "epoch=5, error=-0.2\n",
      "epoch=6, error=-0.2\n",
      "epoch=7, error=-0.3\n",
      "epoch=8, error=-0.2\n",
      "epoch=9, error=-0.2\n",
      "epoch=10, error=-0.2\n",
      "epoch=11, error=-0.2\n",
      "epoch=12, error=-0.2\n",
      "epoch=13, error=-0.1\n",
      "epoch=14, error=-0.3\n",
      "epoch=15, error=-0.2\n",
      "epoch=16, error=-0.1\n",
      "epoch=17, error=-0.1\n",
      "epoch=18, error=-0.2\n",
      "epoch=19, error=-0.1\n",
      "epoch=20, error=-0.2\n",
      "epoch=21, error=-0.1\n",
      "epoch=22, error=-0.1\n",
      "epoch=23, error=-0.1\n",
      "epoch=24, error=-0.2\n",
      "epoch=25, error=0.0\n",
      "epoch=26, error=-0.2\n",
      "epoch=27, error=0.0\n",
      "epoch=28, error=-0.2\n",
      "epoch=29, error=0.0\n",
      "epoch=30, error=-0.2\n",
      "epoch=31, error=0.0\n",
      "epoch=32, error=-0.2\n",
      "epoch=33, error=0.0\n",
      "epoch=34, error=-0.2\n",
      "epoch=35, error=0.0\n",
      "epoch=36, error=-0.2\n",
      "epoch=37, error=0.0\n",
      "epoch=38, error=-0.2\n",
      "epoch=39, error=0.0\n",
      "epoch=40, error=-0.2\n",
      "epoch=41, error=0.0\n",
      "epoch=42, error=-0.2\n",
      "epoch=43, error=0.0\n",
      "epoch=44, error=-0.2\n",
      "epoch=45, error=0.0\n",
      "epoch=46, error=-0.2\n",
      "epoch=47, error=0.0\n",
      "epoch=48, error=-0.2\n",
      "epoch=49, error=0.0\n",
      "epoch=50, error=-0.1\n",
      "epoch=51, error=0.0\n",
      "epoch=52, error=0.0\n",
      "epoch=53, error=0.0\n",
      "epoch=54, error=0.0\n",
      "epoch=55, error=0.0\n",
      "epoch=56, error=0.0\n",
      "epoch=57, error=0.0\n",
      "epoch=58, error=0.0\n",
      "epoch=59, error=0.0\n",
      "epoch=60, error=0.0\n",
      "epoch=61, error=0.0\n",
      "epoch=62, error=0.0\n",
      "epoch=63, error=0.0\n",
      "epoch=64, error=0.0\n",
      "epoch=65, error=0.0\n",
      "epoch=66, error=0.0\n",
      "epoch=67, error=0.0\n",
      "epoch=68, error=0.0\n",
      "epoch=69, error=0.0\n",
      "epoch=70, error=0.0\n",
      "epoch=71, error=0.0\n",
      "epoch=72, error=0.0\n",
      "epoch=73, error=0.0\n",
      "epoch=74, error=0.0\n",
      "epoch=75, error=0.0\n",
      "epoch=76, error=0.0\n",
      "epoch=77, error=0.0\n",
      "epoch=78, error=0.0\n",
      "epoch=79, error=0.0\n",
      "epoch=80, error=0.0\n",
      "epoch=81, error=0.0\n",
      "epoch=82, error=0.0\n",
      "epoch=83, error=0.0\n",
      "epoch=84, error=0.0\n",
      "epoch=85, error=0.0\n",
      "epoch=86, error=0.0\n",
      "epoch=87, error=0.0\n",
      "epoch=88, error=0.0\n",
      "epoch=89, error=0.0\n",
      "epoch=90, error=0.0\n",
      "epoch=91, error=0.0\n",
      "epoch=92, error=0.0\n",
      "epoch=93, error=0.0\n",
      "epoch=94, error=0.0\n",
      "epoch=95, error=0.0\n",
      "epoch=96, error=0.0\n",
      "epoch=97, error=0.0\n",
      "epoch=98, error=0.0\n",
      "epoch=99, error=0.0\n",
      "epoch=100, error=0.0\n"
     ]
    }
   ],
   "source": [
    "neuron.train(X, Y, verbose=1)"
   ]
  },
  {
   "cell_type": "code",
   "execution_count": 34,
   "metadata": {},
   "outputs": [
    {
     "data": {
      "text/plain": [
       "(array([ 3.9, -2.2,  8.7]), -4.999999999999999)"
      ]
     },
     "execution_count": 34,
     "metadata": {},
     "output_type": "execute_result"
    }
   ],
   "source": [
    "neuron.weights, neuron.bias"
   ]
  },
  {
   "cell_type": "code",
   "execution_count": 36,
   "metadata": {},
   "outputs": [],
   "source": [
    "neuron.train(X, Y, verbose=0)\n",
    "neuron.weights, neuron.bias"
   ]
  }
 ],
 "metadata": {
  "kernelspec": {
   "display_name": "Python 3",
   "language": "python",
   "name": "python3"
  },
  "language_info": {
   "codemirror_mode": {
    "name": "ipython",
    "version": 3
   },
   "file_extension": ".py",
   "mimetype": "text/x-python",
   "name": "python",
   "nbconvert_exporter": "python",
   "pygments_lexer": "ipython3",
   "version": "3.12.3"
  }
 },
 "nbformat": 4,
 "nbformat_minor": 2
}
