{
 "cells": [
  {
   "cell_type": "code",
   "execution_count": 6,
   "metadata": {},
   "outputs": [
    {
     "name": "stdout",
     "output_type": "stream",
     "text": [
      "[     1      2      3      4      5      6      7      7      9 100000]\n",
      "[2 2 3 4 5 6 7 7 9 9]\n"
     ]
    }
   ],
   "source": [
    "import numpy as np\n",
    "from scipy.stats.mstats import winsorize\n",
    "\n",
    "a = np.array([1, 2, 3, 4, 5, 6, 7, 7, 9, 100000])\n",
    "\n",
    "print(a)\n",
    "\n",
    "# Winsorize array (capping the values at the 10th and 90th percentiles)\n",
    "a_winsorized = winsorize(a, limits=[0.10, 0.10])\n",
    "\n",
    "# Display the first few rows after Winsorization\n",
    "print(a_winsorized)"
   ]
  },
  {
   "cell_type": "code",
   "execution_count": null,
   "metadata": {},
   "outputs": [],
   "source": []
  }
 ],
 "metadata": {
  "kernelspec": {
   "display_name": "Python 3",
   "language": "python",
   "name": "python3"
  },
  "language_info": {
   "codemirror_mode": {
    "name": "ipython",
    "version": 3
   },
   "file_extension": ".py",
   "mimetype": "text/x-python",
   "name": "python",
   "nbconvert_exporter": "python",
   "pygments_lexer": "ipython3",
   "version": "3.12.3"
  }
 },
 "nbformat": 4,
 "nbformat_minor": 2
}
