{
 "cells": [
  {
   "cell_type": "code",
   "execution_count": 1,
   "metadata": {},
   "outputs": [],
   "source": [
    "# Sample dataset\n",
    "data = {\n",
    "  'Actual': [3, -0.5, 2, 7, 4.2, 5.1, 8, 6.7, 3.5, 1.3],\n",
    "  'Predicted': [2.5, 0.0, 2, 8, 4, 5.5, 7.8, 6.4, 3.6, 1.8]\n",
    "}"
   ]
  },
  {
   "cell_type": "code",
   "execution_count": 2,
   "metadata": {},
   "outputs": [],
   "source": [
    "# simple form\n",
    "\n",
    "def mean_squared_error(y_true, y_pred):\n",
    "  number_of_samples = len(y_true)\n",
    "\n",
    "  error = 0\n",
    "\n",
    "  for i in range(number_of_samples):\n",
    "    error += (y_pred[i] - y_true[i]) ** 2\n",
    "\n",
    "  return error / number_of_samples"
   ]
  },
  {
   "cell_type": "code",
   "execution_count": 3,
   "metadata": {},
   "outputs": [
    {
     "data": {
      "text/plain": [
       "0.20900000000000002"
      ]
     },
     "execution_count": 3,
     "metadata": {},
     "output_type": "execute_result"
    }
   ],
   "source": [
    "mean_squared_error(data['Actual'], data['Predicted'])"
   ]
  },
  {
   "cell_type": "code",
   "execution_count": 4,
   "metadata": {},
   "outputs": [],
   "source": [
    "# compact form\n",
    "def msa_compact(y_true, y_pred):\n",
    "  n = len(y_true)\n",
    "  return sum((y_true[i] - y_pred[i])**2 for i in range(n)) / n"
   ]
  },
  {
   "cell_type": "code",
   "execution_count": 5,
   "metadata": {},
   "outputs": [
    {
     "data": {
      "text/plain": [
       "0.20900000000000002"
      ]
     },
     "execution_count": 5,
     "metadata": {},
     "output_type": "execute_result"
    }
   ],
   "source": [
    "msa_compact(data['Actual'], data['Predicted'])"
   ]
  }
 ],
 "metadata": {
  "kernelspec": {
   "display_name": "Python 3",
   "language": "python",
   "name": "python3"
  },
  "language_info": {
   "codemirror_mode": {
    "name": "ipython",
    "version": 3
   },
   "file_extension": ".py",
   "mimetype": "text/x-python",
   "name": "python",
   "nbconvert_exporter": "python",
   "pygments_lexer": "ipython3",
   "version": "3.12.3"
  }
 },
 "nbformat": 4,
 "nbformat_minor": 2
}
