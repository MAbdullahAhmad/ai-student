{
 "cells": [
  {
   "cell_type": "markdown",
   "metadata": {},
   "source": [
    "## California Housing Prices"
   ]
  },
  {
   "cell_type": "code",
   "execution_count": 3,
   "metadata": {},
   "outputs": [],
   "source": [
    "! mkdir california_housing_prices"
   ]
  },
  {
   "cell_type": "code",
   "execution_count": 4,
   "metadata": {},
   "outputs": [
    {
     "name": "stdout",
     "output_type": "stream",
     "text": [
      "Warning: Looks like you're using an outdated API Version, please consider updating (server 1.6.17 / client 1.6.14)\n",
      "Dataset URL: https://www.kaggle.com/datasets/camnugent/california-housing-prices\n",
      "License(s): CC0-1.0\n",
      "Downloading california-housing-prices.zip to /home/anderson/Documents/repo/ai-student/6-lib-study-method/datasets/pack_1/california_housing_prices\n",
      "100%|█████████████████████████████████████████| 400k/400k [00:02<00:00, 191kB/s]\n",
      "100%|█████████████████████████████████████████| 400k/400k [00:02<00:00, 191kB/s]\n"
     ]
    }
   ],
   "source": [
    "! cd california_housing_prices && kaggle datasets download -d camnugent/california-housing-prices"
   ]
  },
  {
   "cell_type": "code",
   "execution_count": 5,
   "metadata": {},
   "outputs": [
    {
     "name": "stdout",
     "output_type": "stream",
     "text": [
      "Archive:  california-housing-prices.zip\n",
      "  inflating: housing.csv             \n"
     ]
    }
   ],
   "source": [
    "! cd california_housing_prices && unzip california-housing-prices.zip"
   ]
  }
 ],
 "metadata": {
  "kernelspec": {
   "display_name": "Python 3",
   "language": "python",
   "name": "python3"
  },
  "language_info": {
   "codemirror_mode": {
    "name": "ipython",
    "version": 3
   },
   "file_extension": ".py",
   "mimetype": "text/x-python",
   "name": "python",
   "nbconvert_exporter": "python",
   "pygments_lexer": "ipython3",
   "version": "3.12.3"
  }
 },
 "nbformat": 4,
 "nbformat_minor": 2
}
